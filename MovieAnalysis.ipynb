{
  "nbformat": 4,
  "nbformat_minor": 0,
  "metadata": {
    "colab": {
      "provenance": []
    },
    "kernelspec": {
      "name": "python3",
      "display_name": "Python 3"
    },
    "language_info": {
      "name": "python"
    }
  },
  "cells": [
    {
      "cell_type": "code",
      "execution_count": 53,
      "metadata": {
        "id": "iV2ndiZiG-2D"
      },
      "outputs": [],
      "source": [
        "# importing necessary libraries\n",
        "\n",
        "import pandas as pd\n",
        "import numpy as np\n",
        "import matplotlib.pyplot as plt\n",
        "%matplotlib inline"
      ]
    },
    {
      "cell_type": "markdown",
      "source": [
        "# **Calling the Dataset**"
      ],
      "metadata": {
        "id": "Joe83VjuHx_W"
      }
    },
    {
      "cell_type": "code",
      "source": [
        "# Uploading the csv file on cloud\n",
        "\n",
        "from google.colab import files\n",
        "\n",
        "files.upload()\n",
        "\n"
      ],
      "metadata": {
        "id": "9uYpOCScIJ8I"
      },
      "execution_count": null,
      "outputs": []
    },
    {
      "cell_type": "code",
      "source": [
        "# Creating the dataframe\n",
        "\n",
        "df = pd.read_csv(\"imdb_top_1000.csv\")\n",
        "df.head()"
      ],
      "metadata": {
        "colab": {
          "base_uri": "https://localhost:8080/",
          "height": 721
        },
        "id": "6Q82wiaJIpuG",
        "outputId": "eb9576ec-555e-49be-ad6d-5b972007cb29"
      },
      "execution_count": 55,
      "outputs": [
        {
          "output_type": "execute_result",
          "data": {
            "text/plain": [
              "                                         Poster_Link  \\\n",
              "0  https://m.media-amazon.com/images/M/MV5BMDFkYT...   \n",
              "1  https://m.media-amazon.com/images/M/MV5BM2MyNj...   \n",
              "2  https://m.media-amazon.com/images/M/MV5BMTMxNT...   \n",
              "3  https://m.media-amazon.com/images/M/MV5BMWMwMG...   \n",
              "4  https://m.media-amazon.com/images/M/MV5BMWU4N2...   \n",
              "\n",
              "               Series_Title Released_Year Certificate  Runtime  \\\n",
              "0  The Shawshank Redemption          1994           A  142 min   \n",
              "1             The Godfather          1972           A  175 min   \n",
              "2           The Dark Knight          2008          UA  152 min   \n",
              "3    The Godfather: Part II          1974           A  202 min   \n",
              "4              12 Angry Men          1957           U   96 min   \n",
              "\n",
              "                  Genre  IMDB_Rating  \\\n",
              "0                 Drama          9.3   \n",
              "1          Crime, Drama          9.2   \n",
              "2  Action, Crime, Drama          9.0   \n",
              "3          Crime, Drama          9.0   \n",
              "4          Crime, Drama          9.0   \n",
              "\n",
              "                                            Overview  Meta_score  \\\n",
              "0  Two imprisoned men bond over a number of years...        80.0   \n",
              "1  An organized crime dynasty's aging patriarch t...       100.0   \n",
              "2  When the menace known as the Joker wreaks havo...        84.0   \n",
              "3  The early life and career of Vito Corleone in ...        90.0   \n",
              "4  A jury holdout attempts to prevent a miscarria...        96.0   \n",
              "\n",
              "               Director           Star1           Star2          Star3  \\\n",
              "0        Frank Darabont     Tim Robbins  Morgan Freeman     Bob Gunton   \n",
              "1  Francis Ford Coppola   Marlon Brando       Al Pacino     James Caan   \n",
              "2     Christopher Nolan  Christian Bale    Heath Ledger  Aaron Eckhart   \n",
              "3  Francis Ford Coppola       Al Pacino  Robert De Niro  Robert Duvall   \n",
              "4          Sidney Lumet     Henry Fonda     Lee J. Cobb  Martin Balsam   \n",
              "\n",
              "            Star4  No_of_Votes        Gross  \n",
              "0  William Sadler      2343110   28,341,469  \n",
              "1    Diane Keaton      1620367  134,966,411  \n",
              "2   Michael Caine      2303232  534,858,444  \n",
              "3    Diane Keaton      1129952   57,300,000  \n",
              "4    John Fiedler       689845    4,360,000  "
            ],
            "text/html": [
              "\n",
              "  <div id=\"df-7882f6b8-f37d-4960-973b-c197f070448d\">\n",
              "    <div class=\"colab-df-container\">\n",
              "      <div>\n",
              "<style scoped>\n",
              "    .dataframe tbody tr th:only-of-type {\n",
              "        vertical-align: middle;\n",
              "    }\n",
              "\n",
              "    .dataframe tbody tr th {\n",
              "        vertical-align: top;\n",
              "    }\n",
              "\n",
              "    .dataframe thead th {\n",
              "        text-align: right;\n",
              "    }\n",
              "</style>\n",
              "<table border=\"1\" class=\"dataframe\">\n",
              "  <thead>\n",
              "    <tr style=\"text-align: right;\">\n",
              "      <th></th>\n",
              "      <th>Poster_Link</th>\n",
              "      <th>Series_Title</th>\n",
              "      <th>Released_Year</th>\n",
              "      <th>Certificate</th>\n",
              "      <th>Runtime</th>\n",
              "      <th>Genre</th>\n",
              "      <th>IMDB_Rating</th>\n",
              "      <th>Overview</th>\n",
              "      <th>Meta_score</th>\n",
              "      <th>Director</th>\n",
              "      <th>Star1</th>\n",
              "      <th>Star2</th>\n",
              "      <th>Star3</th>\n",
              "      <th>Star4</th>\n",
              "      <th>No_of_Votes</th>\n",
              "      <th>Gross</th>\n",
              "    </tr>\n",
              "  </thead>\n",
              "  <tbody>\n",
              "    <tr>\n",
              "      <th>0</th>\n",
              "      <td>https://m.media-amazon.com/images/M/MV5BMDFkYT...</td>\n",
              "      <td>The Shawshank Redemption</td>\n",
              "      <td>1994</td>\n",
              "      <td>A</td>\n",
              "      <td>142 min</td>\n",
              "      <td>Drama</td>\n",
              "      <td>9.3</td>\n",
              "      <td>Two imprisoned men bond over a number of years...</td>\n",
              "      <td>80.0</td>\n",
              "      <td>Frank Darabont</td>\n",
              "      <td>Tim Robbins</td>\n",
              "      <td>Morgan Freeman</td>\n",
              "      <td>Bob Gunton</td>\n",
              "      <td>William Sadler</td>\n",
              "      <td>2343110</td>\n",
              "      <td>28,341,469</td>\n",
              "    </tr>\n",
              "    <tr>\n",
              "      <th>1</th>\n",
              "      <td>https://m.media-amazon.com/images/M/MV5BM2MyNj...</td>\n",
              "      <td>The Godfather</td>\n",
              "      <td>1972</td>\n",
              "      <td>A</td>\n",
              "      <td>175 min</td>\n",
              "      <td>Crime, Drama</td>\n",
              "      <td>9.2</td>\n",
              "      <td>An organized crime dynasty's aging patriarch t...</td>\n",
              "      <td>100.0</td>\n",
              "      <td>Francis Ford Coppola</td>\n",
              "      <td>Marlon Brando</td>\n",
              "      <td>Al Pacino</td>\n",
              "      <td>James Caan</td>\n",
              "      <td>Diane Keaton</td>\n",
              "      <td>1620367</td>\n",
              "      <td>134,966,411</td>\n",
              "    </tr>\n",
              "    <tr>\n",
              "      <th>2</th>\n",
              "      <td>https://m.media-amazon.com/images/M/MV5BMTMxNT...</td>\n",
              "      <td>The Dark Knight</td>\n",
              "      <td>2008</td>\n",
              "      <td>UA</td>\n",
              "      <td>152 min</td>\n",
              "      <td>Action, Crime, Drama</td>\n",
              "      <td>9.0</td>\n",
              "      <td>When the menace known as the Joker wreaks havo...</td>\n",
              "      <td>84.0</td>\n",
              "      <td>Christopher Nolan</td>\n",
              "      <td>Christian Bale</td>\n",
              "      <td>Heath Ledger</td>\n",
              "      <td>Aaron Eckhart</td>\n",
              "      <td>Michael Caine</td>\n",
              "      <td>2303232</td>\n",
              "      <td>534,858,444</td>\n",
              "    </tr>\n",
              "    <tr>\n",
              "      <th>3</th>\n",
              "      <td>https://m.media-amazon.com/images/M/MV5BMWMwMG...</td>\n",
              "      <td>The Godfather: Part II</td>\n",
              "      <td>1974</td>\n",
              "      <td>A</td>\n",
              "      <td>202 min</td>\n",
              "      <td>Crime, Drama</td>\n",
              "      <td>9.0</td>\n",
              "      <td>The early life and career of Vito Corleone in ...</td>\n",
              "      <td>90.0</td>\n",
              "      <td>Francis Ford Coppola</td>\n",
              "      <td>Al Pacino</td>\n",
              "      <td>Robert De Niro</td>\n",
              "      <td>Robert Duvall</td>\n",
              "      <td>Diane Keaton</td>\n",
              "      <td>1129952</td>\n",
              "      <td>57,300,000</td>\n",
              "    </tr>\n",
              "    <tr>\n",
              "      <th>4</th>\n",
              "      <td>https://m.media-amazon.com/images/M/MV5BMWU4N2...</td>\n",
              "      <td>12 Angry Men</td>\n",
              "      <td>1957</td>\n",
              "      <td>U</td>\n",
              "      <td>96 min</td>\n",
              "      <td>Crime, Drama</td>\n",
              "      <td>9.0</td>\n",
              "      <td>A jury holdout attempts to prevent a miscarria...</td>\n",
              "      <td>96.0</td>\n",
              "      <td>Sidney Lumet</td>\n",
              "      <td>Henry Fonda</td>\n",
              "      <td>Lee J. Cobb</td>\n",
              "      <td>Martin Balsam</td>\n",
              "      <td>John Fiedler</td>\n",
              "      <td>689845</td>\n",
              "      <td>4,360,000</td>\n",
              "    </tr>\n",
              "  </tbody>\n",
              "</table>\n",
              "</div>\n",
              "      <button class=\"colab-df-convert\" onclick=\"convertToInteractive('df-7882f6b8-f37d-4960-973b-c197f070448d')\"\n",
              "              title=\"Convert this dataframe to an interactive table.\"\n",
              "              style=\"display:none;\">\n",
              "        \n",
              "  <svg xmlns=\"http://www.w3.org/2000/svg\" height=\"24px\"viewBox=\"0 0 24 24\"\n",
              "       width=\"24px\">\n",
              "    <path d=\"M0 0h24v24H0V0z\" fill=\"none\"/>\n",
              "    <path d=\"M18.56 5.44l.94 2.06.94-2.06 2.06-.94-2.06-.94-.94-2.06-.94 2.06-2.06.94zm-11 1L8.5 8.5l.94-2.06 2.06-.94-2.06-.94L8.5 2.5l-.94 2.06-2.06.94zm10 10l.94 2.06.94-2.06 2.06-.94-2.06-.94-.94-2.06-.94 2.06-2.06.94z\"/><path d=\"M17.41 7.96l-1.37-1.37c-.4-.4-.92-.59-1.43-.59-.52 0-1.04.2-1.43.59L10.3 9.45l-7.72 7.72c-.78.78-.78 2.05 0 2.83L4 21.41c.39.39.9.59 1.41.59.51 0 1.02-.2 1.41-.59l7.78-7.78 2.81-2.81c.8-.78.8-2.07 0-2.86zM5.41 20L4 18.59l7.72-7.72 1.47 1.35L5.41 20z\"/>\n",
              "  </svg>\n",
              "      </button>\n",
              "      \n",
              "  <style>\n",
              "    .colab-df-container {\n",
              "      display:flex;\n",
              "      flex-wrap:wrap;\n",
              "      gap: 12px;\n",
              "    }\n",
              "\n",
              "    .colab-df-convert {\n",
              "      background-color: #E8F0FE;\n",
              "      border: none;\n",
              "      border-radius: 50%;\n",
              "      cursor: pointer;\n",
              "      display: none;\n",
              "      fill: #1967D2;\n",
              "      height: 32px;\n",
              "      padding: 0 0 0 0;\n",
              "      width: 32px;\n",
              "    }\n",
              "\n",
              "    .colab-df-convert:hover {\n",
              "      background-color: #E2EBFA;\n",
              "      box-shadow: 0px 1px 2px rgba(60, 64, 67, 0.3), 0px 1px 3px 1px rgba(60, 64, 67, 0.15);\n",
              "      fill: #174EA6;\n",
              "    }\n",
              "\n",
              "    [theme=dark] .colab-df-convert {\n",
              "      background-color: #3B4455;\n",
              "      fill: #D2E3FC;\n",
              "    }\n",
              "\n",
              "    [theme=dark] .colab-df-convert:hover {\n",
              "      background-color: #434B5C;\n",
              "      box-shadow: 0px 1px 3px 1px rgba(0, 0, 0, 0.15);\n",
              "      filter: drop-shadow(0px 1px 2px rgba(0, 0, 0, 0.3));\n",
              "      fill: #FFFFFF;\n",
              "    }\n",
              "  </style>\n",
              "\n",
              "      <script>\n",
              "        const buttonEl =\n",
              "          document.querySelector('#df-7882f6b8-f37d-4960-973b-c197f070448d button.colab-df-convert');\n",
              "        buttonEl.style.display =\n",
              "          google.colab.kernel.accessAllowed ? 'block' : 'none';\n",
              "\n",
              "        async function convertToInteractive(key) {\n",
              "          const element = document.querySelector('#df-7882f6b8-f37d-4960-973b-c197f070448d');\n",
              "          const dataTable =\n",
              "            await google.colab.kernel.invokeFunction('convertToInteractive',\n",
              "                                                     [key], {});\n",
              "          if (!dataTable) return;\n",
              "\n",
              "          const docLinkHtml = 'Like what you see? Visit the ' +\n",
              "            '<a target=\"_blank\" href=https://colab.research.google.com/notebooks/data_table.ipynb>data table notebook</a>'\n",
              "            + ' to learn more about interactive tables.';\n",
              "          element.innerHTML = '';\n",
              "          dataTable['output_type'] = 'display_data';\n",
              "          await google.colab.output.renderOutput(dataTable, element);\n",
              "          const docLink = document.createElement('div');\n",
              "          docLink.innerHTML = docLinkHtml;\n",
              "          element.appendChild(docLink);\n",
              "        }\n",
              "      </script>\n",
              "    </div>\n",
              "  </div>\n",
              "  "
            ]
          },
          "metadata": {},
          "execution_count": 55
        }
      ]
    },
    {
      "cell_type": "code",
      "source": [
        "df.dtypes"
      ],
      "metadata": {
        "colab": {
          "base_uri": "https://localhost:8080/"
        },
        "id": "9XNC0kj3V2rS",
        "outputId": "db835ce5-c9ff-4fec-a258-c9094e0cad16"
      },
      "execution_count": 56,
      "outputs": [
        {
          "output_type": "execute_result",
          "data": {
            "text/plain": [
              "Poster_Link       object\n",
              "Series_Title      object\n",
              "Released_Year     object\n",
              "Certificate       object\n",
              "Runtime           object\n",
              "Genre             object\n",
              "IMDB_Rating      float64\n",
              "Overview          object\n",
              "Meta_score       float64\n",
              "Director          object\n",
              "Star1             object\n",
              "Star2             object\n",
              "Star3             object\n",
              "Star4             object\n",
              "No_of_Votes        int64\n",
              "Gross             object\n",
              "dtype: object"
            ]
          },
          "metadata": {},
          "execution_count": 56
        }
      ]
    },
    {
      "cell_type": "code",
      "source": [
        "df.shape\n"
      ],
      "metadata": {
        "colab": {
          "base_uri": "https://localhost:8080/"
        },
        "id": "3yktt7a7WEv3",
        "outputId": "7ef0bd9d-72df-44fd-9dd6-87525d8fd5fd"
      },
      "execution_count": 57,
      "outputs": [
        {
          "output_type": "execute_result",
          "data": {
            "text/plain": [
              "(1000, 16)"
            ]
          },
          "metadata": {},
          "execution_count": 57
        }
      ]
    },
    {
      "cell_type": "code",
      "source": [
        "# number of rows and coloumns in the dataset\n",
        "\n",
        "print(\"Number of rows are \", df.shape[0])\n",
        "print('Number of columns are', df.shape[1])"
      ],
      "metadata": {
        "colab": {
          "base_uri": "https://localhost:8080/"
        },
        "id": "R0CCndpqWJBq",
        "outputId": "0bc4cf01-2c04-4b2d-9da0-d1aacb91e9bb"
      },
      "execution_count": 58,
      "outputs": [
        {
          "output_type": "stream",
          "name": "stdout",
          "text": [
            "Number of rows are  1000\n",
            "Number of columns are 16\n"
          ]
        }
      ]
    },
    {
      "cell_type": "code",
      "source": [
        "# searching for missing data\n",
        "\n",
        "print(\"Any missing value\",df.isnull().values.any())\n",
        "df.isnull()"
      ],
      "metadata": {
        "colab": {
          "base_uri": "https://localhost:8080/",
          "height": 505
        },
        "id": "Ki2PacVXXbmN",
        "outputId": "1b519220-b900-4fa9-9198-8e3992250dc8"
      },
      "execution_count": 59,
      "outputs": [
        {
          "output_type": "stream",
          "name": "stdout",
          "text": [
            "Any missing value True\n"
          ]
        },
        {
          "output_type": "execute_result",
          "data": {
            "text/plain": [
              "     Poster_Link  Series_Title  Released_Year  Certificate  Runtime  Genre  \\\n",
              "0          False         False          False        False    False  False   \n",
              "1          False         False          False        False    False  False   \n",
              "2          False         False          False        False    False  False   \n",
              "3          False         False          False        False    False  False   \n",
              "4          False         False          False        False    False  False   \n",
              "..           ...           ...            ...          ...      ...    ...   \n",
              "995        False         False          False        False    False  False   \n",
              "996        False         False          False        False    False  False   \n",
              "997        False         False          False        False    False  False   \n",
              "998        False         False          False         True    False  False   \n",
              "999        False         False          False         True    False  False   \n",
              "\n",
              "     IMDB_Rating  Overview  Meta_score  Director  Star1  Star2  Star3  Star4  \\\n",
              "0          False     False       False     False  False  False  False  False   \n",
              "1          False     False       False     False  False  False  False  False   \n",
              "2          False     False       False     False  False  False  False  False   \n",
              "3          False     False       False     False  False  False  False  False   \n",
              "4          False     False       False     False  False  False  False  False   \n",
              "..           ...       ...         ...       ...    ...    ...    ...    ...   \n",
              "995        False     False       False     False  False  False  False  False   \n",
              "996        False     False       False     False  False  False  False  False   \n",
              "997        False     False       False     False  False  False  False  False   \n",
              "998        False     False       False     False  False  False  False  False   \n",
              "999        False     False       False     False  False  False  False  False   \n",
              "\n",
              "     No_of_Votes  Gross  \n",
              "0          False  False  \n",
              "1          False  False  \n",
              "2          False  False  \n",
              "3          False  False  \n",
              "4          False  False  \n",
              "..           ...    ...  \n",
              "995        False   True  \n",
              "996        False   True  \n",
              "997        False  False  \n",
              "998        False   True  \n",
              "999        False   True  \n",
              "\n",
              "[1000 rows x 16 columns]"
            ],
            "text/html": [
              "\n",
              "  <div id=\"df-cc96cab5-cc94-482f-b7e2-ef52ac8d13f1\">\n",
              "    <div class=\"colab-df-container\">\n",
              "      <div>\n",
              "<style scoped>\n",
              "    .dataframe tbody tr th:only-of-type {\n",
              "        vertical-align: middle;\n",
              "    }\n",
              "\n",
              "    .dataframe tbody tr th {\n",
              "        vertical-align: top;\n",
              "    }\n",
              "\n",
              "    .dataframe thead th {\n",
              "        text-align: right;\n",
              "    }\n",
              "</style>\n",
              "<table border=\"1\" class=\"dataframe\">\n",
              "  <thead>\n",
              "    <tr style=\"text-align: right;\">\n",
              "      <th></th>\n",
              "      <th>Poster_Link</th>\n",
              "      <th>Series_Title</th>\n",
              "      <th>Released_Year</th>\n",
              "      <th>Certificate</th>\n",
              "      <th>Runtime</th>\n",
              "      <th>Genre</th>\n",
              "      <th>IMDB_Rating</th>\n",
              "      <th>Overview</th>\n",
              "      <th>Meta_score</th>\n",
              "      <th>Director</th>\n",
              "      <th>Star1</th>\n",
              "      <th>Star2</th>\n",
              "      <th>Star3</th>\n",
              "      <th>Star4</th>\n",
              "      <th>No_of_Votes</th>\n",
              "      <th>Gross</th>\n",
              "    </tr>\n",
              "  </thead>\n",
              "  <tbody>\n",
              "    <tr>\n",
              "      <th>0</th>\n",
              "      <td>False</td>\n",
              "      <td>False</td>\n",
              "      <td>False</td>\n",
              "      <td>False</td>\n",
              "      <td>False</td>\n",
              "      <td>False</td>\n",
              "      <td>False</td>\n",
              "      <td>False</td>\n",
              "      <td>False</td>\n",
              "      <td>False</td>\n",
              "      <td>False</td>\n",
              "      <td>False</td>\n",
              "      <td>False</td>\n",
              "      <td>False</td>\n",
              "      <td>False</td>\n",
              "      <td>False</td>\n",
              "    </tr>\n",
              "    <tr>\n",
              "      <th>1</th>\n",
              "      <td>False</td>\n",
              "      <td>False</td>\n",
              "      <td>False</td>\n",
              "      <td>False</td>\n",
              "      <td>False</td>\n",
              "      <td>False</td>\n",
              "      <td>False</td>\n",
              "      <td>False</td>\n",
              "      <td>False</td>\n",
              "      <td>False</td>\n",
              "      <td>False</td>\n",
              "      <td>False</td>\n",
              "      <td>False</td>\n",
              "      <td>False</td>\n",
              "      <td>False</td>\n",
              "      <td>False</td>\n",
              "    </tr>\n",
              "    <tr>\n",
              "      <th>2</th>\n",
              "      <td>False</td>\n",
              "      <td>False</td>\n",
              "      <td>False</td>\n",
              "      <td>False</td>\n",
              "      <td>False</td>\n",
              "      <td>False</td>\n",
              "      <td>False</td>\n",
              "      <td>False</td>\n",
              "      <td>False</td>\n",
              "      <td>False</td>\n",
              "      <td>False</td>\n",
              "      <td>False</td>\n",
              "      <td>False</td>\n",
              "      <td>False</td>\n",
              "      <td>False</td>\n",
              "      <td>False</td>\n",
              "    </tr>\n",
              "    <tr>\n",
              "      <th>3</th>\n",
              "      <td>False</td>\n",
              "      <td>False</td>\n",
              "      <td>False</td>\n",
              "      <td>False</td>\n",
              "      <td>False</td>\n",
              "      <td>False</td>\n",
              "      <td>False</td>\n",
              "      <td>False</td>\n",
              "      <td>False</td>\n",
              "      <td>False</td>\n",
              "      <td>False</td>\n",
              "      <td>False</td>\n",
              "      <td>False</td>\n",
              "      <td>False</td>\n",
              "      <td>False</td>\n",
              "      <td>False</td>\n",
              "    </tr>\n",
              "    <tr>\n",
              "      <th>4</th>\n",
              "      <td>False</td>\n",
              "      <td>False</td>\n",
              "      <td>False</td>\n",
              "      <td>False</td>\n",
              "      <td>False</td>\n",
              "      <td>False</td>\n",
              "      <td>False</td>\n",
              "      <td>False</td>\n",
              "      <td>False</td>\n",
              "      <td>False</td>\n",
              "      <td>False</td>\n",
              "      <td>False</td>\n",
              "      <td>False</td>\n",
              "      <td>False</td>\n",
              "      <td>False</td>\n",
              "      <td>False</td>\n",
              "    </tr>\n",
              "    <tr>\n",
              "      <th>...</th>\n",
              "      <td>...</td>\n",
              "      <td>...</td>\n",
              "      <td>...</td>\n",
              "      <td>...</td>\n",
              "      <td>...</td>\n",
              "      <td>...</td>\n",
              "      <td>...</td>\n",
              "      <td>...</td>\n",
              "      <td>...</td>\n",
              "      <td>...</td>\n",
              "      <td>...</td>\n",
              "      <td>...</td>\n",
              "      <td>...</td>\n",
              "      <td>...</td>\n",
              "      <td>...</td>\n",
              "      <td>...</td>\n",
              "    </tr>\n",
              "    <tr>\n",
              "      <th>995</th>\n",
              "      <td>False</td>\n",
              "      <td>False</td>\n",
              "      <td>False</td>\n",
              "      <td>False</td>\n",
              "      <td>False</td>\n",
              "      <td>False</td>\n",
              "      <td>False</td>\n",
              "      <td>False</td>\n",
              "      <td>False</td>\n",
              "      <td>False</td>\n",
              "      <td>False</td>\n",
              "      <td>False</td>\n",
              "      <td>False</td>\n",
              "      <td>False</td>\n",
              "      <td>False</td>\n",
              "      <td>True</td>\n",
              "    </tr>\n",
              "    <tr>\n",
              "      <th>996</th>\n",
              "      <td>False</td>\n",
              "      <td>False</td>\n",
              "      <td>False</td>\n",
              "      <td>False</td>\n",
              "      <td>False</td>\n",
              "      <td>False</td>\n",
              "      <td>False</td>\n",
              "      <td>False</td>\n",
              "      <td>False</td>\n",
              "      <td>False</td>\n",
              "      <td>False</td>\n",
              "      <td>False</td>\n",
              "      <td>False</td>\n",
              "      <td>False</td>\n",
              "      <td>False</td>\n",
              "      <td>True</td>\n",
              "    </tr>\n",
              "    <tr>\n",
              "      <th>997</th>\n",
              "      <td>False</td>\n",
              "      <td>False</td>\n",
              "      <td>False</td>\n",
              "      <td>False</td>\n",
              "      <td>False</td>\n",
              "      <td>False</td>\n",
              "      <td>False</td>\n",
              "      <td>False</td>\n",
              "      <td>False</td>\n",
              "      <td>False</td>\n",
              "      <td>False</td>\n",
              "      <td>False</td>\n",
              "      <td>False</td>\n",
              "      <td>False</td>\n",
              "      <td>False</td>\n",
              "      <td>False</td>\n",
              "    </tr>\n",
              "    <tr>\n",
              "      <th>998</th>\n",
              "      <td>False</td>\n",
              "      <td>False</td>\n",
              "      <td>False</td>\n",
              "      <td>True</td>\n",
              "      <td>False</td>\n",
              "      <td>False</td>\n",
              "      <td>False</td>\n",
              "      <td>False</td>\n",
              "      <td>False</td>\n",
              "      <td>False</td>\n",
              "      <td>False</td>\n",
              "      <td>False</td>\n",
              "      <td>False</td>\n",
              "      <td>False</td>\n",
              "      <td>False</td>\n",
              "      <td>True</td>\n",
              "    </tr>\n",
              "    <tr>\n",
              "      <th>999</th>\n",
              "      <td>False</td>\n",
              "      <td>False</td>\n",
              "      <td>False</td>\n",
              "      <td>True</td>\n",
              "      <td>False</td>\n",
              "      <td>False</td>\n",
              "      <td>False</td>\n",
              "      <td>False</td>\n",
              "      <td>False</td>\n",
              "      <td>False</td>\n",
              "      <td>False</td>\n",
              "      <td>False</td>\n",
              "      <td>False</td>\n",
              "      <td>False</td>\n",
              "      <td>False</td>\n",
              "      <td>True</td>\n",
              "    </tr>\n",
              "  </tbody>\n",
              "</table>\n",
              "<p>1000 rows × 16 columns</p>\n",
              "</div>\n",
              "      <button class=\"colab-df-convert\" onclick=\"convertToInteractive('df-cc96cab5-cc94-482f-b7e2-ef52ac8d13f1')\"\n",
              "              title=\"Convert this dataframe to an interactive table.\"\n",
              "              style=\"display:none;\">\n",
              "        \n",
              "  <svg xmlns=\"http://www.w3.org/2000/svg\" height=\"24px\"viewBox=\"0 0 24 24\"\n",
              "       width=\"24px\">\n",
              "    <path d=\"M0 0h24v24H0V0z\" fill=\"none\"/>\n",
              "    <path d=\"M18.56 5.44l.94 2.06.94-2.06 2.06-.94-2.06-.94-.94-2.06-.94 2.06-2.06.94zm-11 1L8.5 8.5l.94-2.06 2.06-.94-2.06-.94L8.5 2.5l-.94 2.06-2.06.94zm10 10l.94 2.06.94-2.06 2.06-.94-2.06-.94-.94-2.06-.94 2.06-2.06.94z\"/><path d=\"M17.41 7.96l-1.37-1.37c-.4-.4-.92-.59-1.43-.59-.52 0-1.04.2-1.43.59L10.3 9.45l-7.72 7.72c-.78.78-.78 2.05 0 2.83L4 21.41c.39.39.9.59 1.41.59.51 0 1.02-.2 1.41-.59l7.78-7.78 2.81-2.81c.8-.78.8-2.07 0-2.86zM5.41 20L4 18.59l7.72-7.72 1.47 1.35L5.41 20z\"/>\n",
              "  </svg>\n",
              "      </button>\n",
              "      \n",
              "  <style>\n",
              "    .colab-df-container {\n",
              "      display:flex;\n",
              "      flex-wrap:wrap;\n",
              "      gap: 12px;\n",
              "    }\n",
              "\n",
              "    .colab-df-convert {\n",
              "      background-color: #E8F0FE;\n",
              "      border: none;\n",
              "      border-radius: 50%;\n",
              "      cursor: pointer;\n",
              "      display: none;\n",
              "      fill: #1967D2;\n",
              "      height: 32px;\n",
              "      padding: 0 0 0 0;\n",
              "      width: 32px;\n",
              "    }\n",
              "\n",
              "    .colab-df-convert:hover {\n",
              "      background-color: #E2EBFA;\n",
              "      box-shadow: 0px 1px 2px rgba(60, 64, 67, 0.3), 0px 1px 3px 1px rgba(60, 64, 67, 0.15);\n",
              "      fill: #174EA6;\n",
              "    }\n",
              "\n",
              "    [theme=dark] .colab-df-convert {\n",
              "      background-color: #3B4455;\n",
              "      fill: #D2E3FC;\n",
              "    }\n",
              "\n",
              "    [theme=dark] .colab-df-convert:hover {\n",
              "      background-color: #434B5C;\n",
              "      box-shadow: 0px 1px 3px 1px rgba(0, 0, 0, 0.15);\n",
              "      filter: drop-shadow(0px 1px 2px rgba(0, 0, 0, 0.3));\n",
              "      fill: #FFFFFF;\n",
              "    }\n",
              "  </style>\n",
              "\n",
              "      <script>\n",
              "        const buttonEl =\n",
              "          document.querySelector('#df-cc96cab5-cc94-482f-b7e2-ef52ac8d13f1 button.colab-df-convert');\n",
              "        buttonEl.style.display =\n",
              "          google.colab.kernel.accessAllowed ? 'block' : 'none';\n",
              "\n",
              "        async function convertToInteractive(key) {\n",
              "          const element = document.querySelector('#df-cc96cab5-cc94-482f-b7e2-ef52ac8d13f1');\n",
              "          const dataTable =\n",
              "            await google.colab.kernel.invokeFunction('convertToInteractive',\n",
              "                                                     [key], {});\n",
              "          if (!dataTable) return;\n",
              "\n",
              "          const docLinkHtml = 'Like what you see? Visit the ' +\n",
              "            '<a target=\"_blank\" href=https://colab.research.google.com/notebooks/data_table.ipynb>data table notebook</a>'\n",
              "            + ' to learn more about interactive tables.';\n",
              "          element.innerHTML = '';\n",
              "          dataTable['output_type'] = 'display_data';\n",
              "          await google.colab.output.renderOutput(dataTable, element);\n",
              "          const docLink = document.createElement('div');\n",
              "          docLink.innerHTML = docLinkHtml;\n",
              "          element.appendChild(docLink);\n",
              "        }\n",
              "      </script>\n",
              "    </div>\n",
              "  </div>\n",
              "  "
            ]
          },
          "metadata": {},
          "execution_count": 59
        }
      ]
    },
    {
      "cell_type": "code",
      "source": [
        "# summary of missing data\n",
        "\n",
        "df.isnull().sum() \n"
      ],
      "metadata": {
        "colab": {
          "base_uri": "https://localhost:8080/"
        },
        "id": "u5favGpNX8Ck",
        "outputId": "cd7b3783-b34e-4061-ef09-a23cd28ad047"
      },
      "execution_count": 60,
      "outputs": [
        {
          "output_type": "execute_result",
          "data": {
            "text/plain": [
              "Poster_Link        0\n",
              "Series_Title       0\n",
              "Released_Year      0\n",
              "Certificate      101\n",
              "Runtime            0\n",
              "Genre              0\n",
              "IMDB_Rating        0\n",
              "Overview           0\n",
              "Meta_score       157\n",
              "Director           0\n",
              "Star1              0\n",
              "Star2              0\n",
              "Star3              0\n",
              "Star4              0\n",
              "No_of_Votes        0\n",
              "Gross            169\n",
              "dtype: int64"
            ]
          },
          "metadata": {},
          "execution_count": 60
        }
      ]
    },
    {
      "cell_type": "code",
      "source": [
        "import seaborn as sns\n",
        "\n",
        "sns.heatmap(df.isnull())"
      ],
      "metadata": {
        "colab": {
          "base_uri": "https://localhost:8080/",
          "height": 349
        },
        "id": "WhuUhVKTZOAw",
        "outputId": "73b1b97d-69e8-4ed5-8115-352bf91d8a1d"
      },
      "execution_count": 61,
      "outputs": [
        {
          "output_type": "execute_result",
          "data": {
            "text/plain": [
              "<matplotlib.axes._subplots.AxesSubplot at 0x7fa205d216d0>"
            ]
          },
          "metadata": {},
          "execution_count": 61
        },
        {
          "output_type": "display_data",
          "data": {
            "text/plain": [
              "<Figure size 432x288 with 2 Axes>"
            ],
            "image/png": "[encoded data removed]"
          },
          "metadata": {
            "needs_background": "light"
          }
        }
      ]
    },
    {
      "cell_type": "code",
      "source": [
        "# percentage of missing data\n",
        "\n",
        "per_miss = df.isnull().sum()*100/len(df)\n",
        "per_miss"
      ],
      "metadata": {
        "colab": {
          "base_uri": "https://localhost:8080/"
        },
        "id": "P--kFnNuZp8h",
        "outputId": "e765d66e-ac52-4782-fb68-0c4067d896a7"
      },
      "execution_count": 62,
      "outputs": [
        {
          "output_type": "execute_result",
          "data": {
            "text/plain": [
              "Poster_Link       0.0\n",
              "Series_Title      0.0\n",
              "Released_Year     0.0\n",
              "Certificate      10.1\n",
              "Runtime           0.0\n",
              "Genre             0.0\n",
              "IMDB_Rating       0.0\n",
              "Overview          0.0\n",
              "Meta_score       15.7\n",
              "Director          0.0\n",
              "Star1             0.0\n",
              "Star2             0.0\n",
              "Star3             0.0\n",
              "Star4             0.0\n",
              "No_of_Votes       0.0\n",
              "Gross            16.9\n",
              "dtype: float64"
            ]
          },
          "metadata": {},
          "execution_count": 62
        }
      ]
    },
    {
      "cell_type": "code",
      "source": [
        "# dropping the missing values\n",
        "\n",
        "df.dropna(axis=0, inplace=True)\n",
        "df.isnull().sum()\n",
        "\n"
      ],
      "metadata": {
        "colab": {
          "base_uri": "https://localhost:8080/"
        },
        "id": "AdbKyCtYaIbg",
        "outputId": "10cf547b-eab6-43c8-8e2a-fe033c2a4f4d"
      },
      "execution_count": 63,
      "outputs": [
        {
          "output_type": "execute_result",
          "data": {
            "text/plain": [
              "Poster_Link      0\n",
              "Series_Title     0\n",
              "Released_Year    0\n",
              "Certificate      0\n",
              "Runtime          0\n",
              "Genre            0\n",
              "IMDB_Rating      0\n",
              "Overview         0\n",
              "Meta_score       0\n",
              "Director         0\n",
              "Star1            0\n",
              "Star2            0\n",
              "Star3            0\n",
              "Star4            0\n",
              "No_of_Votes      0\n",
              "Gross            0\n",
              "dtype: int64"
            ]
          },
          "metadata": {},
          "execution_count": 63
        }
      ]
    },
    {
      "cell_type": "markdown",
      "source": [
        "Missing values have been dealt with!"
      ],
      "metadata": {
        "id": "YEOMx8atHyA-"
      }
    },
    {
      "cell_type": "code",
      "source": [
        "# searching for duplicate data\n",
        "\n",
        "dup_df = df.duplicated().any()\n",
        "\n",
        "dup_df"
      ],
      "metadata": {
        "colab": {
          "base_uri": "https://localhost:8080/"
        },
        "id": "tkKFoggXrtga",
        "outputId": "eb758667-d24a-495b-c3f7-8d83002c0023"
      },
      "execution_count": 64,
      "outputs": [
        {
          "output_type": "execute_result",
          "data": {
            "text/plain": [
              "False"
            ]
          },
          "metadata": {},
          "execution_count": 64
        }
      ]
    },
    {
      "cell_type": "markdown",
      "source": [
        "*There is no duplicate data!*"
      ],
      "metadata": {
        "id": "-bmZHqafsd15"
      }
    },
    {
      "cell_type": "code",
      "source": [
        "# statisfical representation of overall data\n",
        "\n",
        "df.describe(include='all')"
      ],
      "metadata": {
        "colab": {
          "base_uri": "https://localhost:8080/",
          "height": 545
        },
        "id": "humEWlNeskUy",
        "outputId": "428e48b7-53b3-4c58-f1cf-804111f01b6a"
      },
      "execution_count": 65,
      "outputs": [
        {
          "output_type": "execute_result",
          "data": {
            "text/plain": [
              "                                              Poster_Link  \\\n",
              "count                                                 714   \n",
              "unique                                                714   \n",
              "top     https://m.media-amazon.com/images/M/MV5BMDFkYT...   \n",
              "freq                                                    1   \n",
              "mean                                                  NaN   \n",
              "std                                                   NaN   \n",
              "min                                                   NaN   \n",
              "25%                                                   NaN   \n",
              "50%                                                   NaN   \n",
              "75%                                                   NaN   \n",
              "max                                                   NaN   \n",
              "\n",
              "                    Series_Title Released_Year Certificate  Runtime  Genre  \\\n",
              "count                        714           714         714      714    714   \n",
              "unique                       714            83          12      118    172   \n",
              "top     The Shawshank Redemption          2014           U  130 min  Drama   \n",
              "freq                           1            28         183       20     58   \n",
              "mean                         NaN           NaN         NaN      NaN    NaN   \n",
              "std                          NaN           NaN         NaN      NaN    NaN   \n",
              "min                          NaN           NaN         NaN      NaN    NaN   \n",
              "25%                          NaN           NaN         NaN      NaN    NaN   \n",
              "50%                          NaN           NaN         NaN      NaN    NaN   \n",
              "75%                          NaN           NaN         NaN      NaN    NaN   \n",
              "max                          NaN           NaN         NaN      NaN    NaN   \n",
              "\n",
              "        IMDB_Rating                                           Overview  \\\n",
              "count    714.000000                                                714   \n",
              "unique          NaN                                                714   \n",
              "top             NaN  Two imprisoned men bond over a number of years...   \n",
              "freq            NaN                                                  1   \n",
              "mean       7.937115                                                NaN   \n",
              "std        0.293278                                                NaN   \n",
              "min        7.600000                                                NaN   \n",
              "25%        7.700000                                                NaN   \n",
              "50%        7.900000                                                NaN   \n",
              "75%        8.100000                                                NaN   \n",
              "max        9.300000                                                NaN   \n",
              "\n",
              "        Meta_score          Director      Star1        Star2         Star3  \\\n",
              "count   714.000000               714        714          714           714   \n",
              "unique         NaN               402        472          599           626   \n",
              "top            NaN  Steven Spielberg  Tom Hanks  Emma Watson  Rupert Grint   \n",
              "freq           NaN                13         12            7             5   \n",
              "mean     77.158263               NaN        NaN          NaN           NaN   \n",
              "std      12.401144               NaN        NaN          NaN           NaN   \n",
              "min      28.000000               NaN        NaN          NaN           NaN   \n",
              "25%      70.000000               NaN        NaN          NaN           NaN   \n",
              "50%      78.000000               NaN        NaN          NaN           NaN   \n",
              "75%      86.000000               NaN        NaN          NaN           NaN   \n",
              "max     100.000000               NaN        NaN          NaN           NaN   \n",
              "\n",
              "                Star4   No_of_Votes      Gross  \n",
              "count             714  7.140000e+02        714  \n",
              "unique            671           NaN        710  \n",
              "top     Michael Caine           NaN  4,360,000  \n",
              "freq                4           NaN          3  \n",
              "mean              NaN  3.561348e+05        NaN  \n",
              "std               NaN  3.539011e+05        NaN  \n",
              "min               NaN  2.522900e+04        NaN  \n",
              "25%               NaN  9.600975e+04        NaN  \n",
              "50%               NaN  2.366025e+05        NaN  \n",
              "75%               NaN  5.077922e+05        NaN  \n",
              "max               NaN  2.343110e+06        NaN  "
            ],
            "text/html": [
              "\n",
              "  <div id=\"df-cb91b23d-8b35-45a8-992a-49ad1b377d64\">\n",
              "    <div class=\"colab-df-container\">\n",
              "      <div>\n",
              "<style scoped>\n",
              "    .dataframe tbody tr th:only-of-type {\n",
              "        vertical-align: middle;\n",
              "    }\n",
              "\n",
              "    .dataframe tbody tr th {\n",
              "        vertical-align: top;\n",
              "    }\n",
              "\n",
              "    .dataframe thead th {\n",
              "        text-align: right;\n",
              "    }\n",
              "</style>\n",
              "<table border=\"1\" class=\"dataframe\">\n",
              "  <thead>\n",
              "    <tr style=\"text-align: right;\">\n",
              "      <th></th>\n",
              "      <th>Poster_Link</th>\n",
              "      <th>Series_Title</th>\n",
              "      <th>Released_Year</th>\n",
              "      <th>Certificate</th>\n",
              "      <th>Runtime</th>\n",
              "      <th>Genre</th>\n",
              "      <th>IMDB_Rating</th>\n",
              "      <th>Overview</th>\n",
              "      <th>Meta_score</th>\n",
              "      <th>Director</th>\n",
              "      <th>Star1</th>\n",
              "      <th>Star2</th>\n",
              "      <th>Star3</th>\n",
              "      <th>Star4</th>\n",
              "      <th>No_of_Votes</th>\n",
              "      <th>Gross</th>\n",
              "    </tr>\n",
              "  </thead>\n",
              "  <tbody>\n",
              "    <tr>\n",
              "      <th>count</th>\n",
              "      <td>714</td>\n",
              "      <td>714</td>\n",
              "      <td>714</td>\n",
              "      <td>714</td>\n",
              "      <td>714</td>\n",
              "      <td>714</td>\n",
              "      <td>714.000000</td>\n",
              "      <td>714</td>\n",
              "      <td>714.000000</td>\n",
              "      <td>714</td>\n",
              "      <td>714</td>\n",
              "      <td>714</td>\n",
              "      <td>714</td>\n",
              "      <td>714</td>\n",
              "      <td>7.140000e+02</td>\n",
              "      <td>714</td>\n",
              "    </tr>\n",
              "    <tr>\n",
              "      <th>unique</th>\n",
              "      <td>714</td>\n",
              "      <td>714</td>\n",
              "      <td>83</td>\n",
              "      <td>12</td>\n",
              "      <td>118</td>\n",
              "      <td>172</td>\n",
              "      <td>NaN</td>\n",
              "      <td>714</td>\n",
              "      <td>NaN</td>\n",
              "      <td>402</td>\n",
              "      <td>472</td>\n",
              "      <td>599</td>\n",
              "      <td>626</td>\n",
              "      <td>671</td>\n",
              "      <td>NaN</td>\n",
              "      <td>710</td>\n",
              "    </tr>\n",
              "    <tr>\n",
              "      <th>top</th>\n",
              "      <td>https://m.media-amazon.com/images/M/MV5BMDFkYT...</td>\n",
              "      <td>The Shawshank Redemption</td>\n",
              "      <td>2014</td>\n",
              "      <td>U</td>\n",
              "      <td>130 min</td>\n",
              "      <td>Drama</td>\n",
              "      <td>NaN</td>\n",
              "      <td>Two imprisoned men bond over a number of years...</td>\n",
              "      <td>NaN</td>\n",
              "      <td>Steven Spielberg</td>\n",
              "      <td>Tom Hanks</td>\n",
              "      <td>Emma Watson</td>\n",
              "      <td>Rupert Grint</td>\n",
              "      <td>Michael Caine</td>\n",
              "      <td>NaN</td>\n",
              "      <td>4,360,000</td>\n",
              "    </tr>\n",
              "    <tr>\n",
              "      <th>freq</th>\n",
              "      <td>1</td>\n",
              "      <td>1</td>\n",
              "      <td>28</td>\n",
              "      <td>183</td>\n",
              "      <td>20</td>\n",
              "      <td>58</td>\n",
              "      <td>NaN</td>\n",
              "      <td>1</td>\n",
              "      <td>NaN</td>\n",
              "      <td>13</td>\n",
              "      <td>12</td>\n",
              "      <td>7</td>\n",
              "      <td>5</td>\n",
              "      <td>4</td>\n",
              "      <td>NaN</td>\n",
              "      <td>3</td>\n",
              "    </tr>\n",
              "    <tr>\n",
              "      <th>mean</th>\n",
              "      <td>NaN</td>\n",
              "      <td>NaN</td>\n",
              "      <td>NaN</td>\n",
              "      <td>NaN</td>\n",
              "      <td>NaN</td>\n",
              "      <td>NaN</td>\n",
              "      <td>7.937115</td>\n",
              "      <td>NaN</td>\n",
              "      <td>77.158263</td>\n",
              "      <td>NaN</td>\n",
              "      <td>NaN</td>\n",
              "      <td>NaN</td>\n",
              "      <td>NaN</td>\n",
              "      <td>NaN</td>\n",
              "      <td>3.561348e+05</td>\n",
              "      <td>NaN</td>\n",
              "    </tr>\n",
              "    <tr>\n",
              "      <th>std</th>\n",
              "      <td>NaN</td>\n",
              "      <td>NaN</td>\n",
              "      <td>NaN</td>\n",
              "      <td>NaN</td>\n",
              "      <td>NaN</td>\n",
              "      <td>NaN</td>\n",
              "      <td>0.293278</td>\n",
              "      <td>NaN</td>\n",
              "      <td>12.401144</td>\n",
              "      <td>NaN</td>\n",
              "      <td>NaN</td>\n",
              "      <td>NaN</td>\n",
              "      <td>NaN</td>\n",
              "      <td>NaN</td>\n",
              "      <td>3.539011e+05</td>\n",
              "      <td>NaN</td>\n",
              "    </tr>\n",
              "    <tr>\n",
              "      <th>min</th>\n",
              "      <td>NaN</td>\n",
              "      <td>NaN</td>\n",
              "      <td>NaN</td>\n",
              "      <td>NaN</td>\n",
              "      <td>NaN</td>\n",
              "      <td>NaN</td>\n",
              "      <td>7.600000</td>\n",
              "      <td>NaN</td>\n",
              "      <td>28.000000</td>\n",
              "      <td>NaN</td>\n",
              "      <td>NaN</td>\n",
              "      <td>NaN</td>\n",
              "      <td>NaN</td>\n",
              "      <td>NaN</td>\n",
              "      <td>2.522900e+04</td>\n",
              "      <td>NaN</td>\n",
              "    </tr>\n",
              "    <tr>\n",
              "      <th>25%</th>\n",
              "      <td>NaN</td>\n",
              "      <td>NaN</td>\n",
              "      <td>NaN</td>\n",
              "      <td>NaN</td>\n",
              "      <td>NaN</td>\n",
              "      <td>NaN</td>\n",
              "      <td>7.700000</td>\n",
              "      <td>NaN</td>\n",
              "      <td>70.000000</td>\n",
              "      <td>NaN</td>\n",
              "      <td>NaN</td>\n",
              "      <td>NaN</td>\n",
              "      <td>NaN</td>\n",
              "      <td>NaN</td>\n",
              "      <td>9.600975e+04</td>\n",
              "      <td>NaN</td>\n",
              "    </tr>\n",
              "    <tr>\n",
              "      <th>50%</th>\n",
              "      <td>NaN</td>\n",
              "      <td>NaN</td>\n",
              "      <td>NaN</td>\n",
              "      <td>NaN</td>\n",
              "      <td>NaN</td>\n",
              "      <td>NaN</td>\n",
              "      <td>7.900000</td>\n",
              "      <td>NaN</td>\n",
              "      <td>78.000000</td>\n",
              "      <td>NaN</td>\n",
              "      <td>NaN</td>\n",
              "      <td>NaN</td>\n",
              "      <td>NaN</td>\n",
              "      <td>NaN</td>\n",
              "      <td>2.366025e+05</td>\n",
              "      <td>NaN</td>\n",
              "    </tr>\n",
              "    <tr>\n",
              "      <th>75%</th>\n",
              "      <td>NaN</td>\n",
              "      <td>NaN</td>\n",
              "      <td>NaN</td>\n",
              "      <td>NaN</td>\n",
              "      <td>NaN</td>\n",
              "      <td>NaN</td>\n",
              "      <td>8.100000</td>\n",
              "      <td>NaN</td>\n",
              "      <td>86.000000</td>\n",
              "      <td>NaN</td>\n",
              "      <td>NaN</td>\n",
              "      <td>NaN</td>\n",
              "      <td>NaN</td>\n",
              "      <td>NaN</td>\n",
              "      <td>5.077922e+05</td>\n",
              "      <td>NaN</td>\n",
              "    </tr>\n",
              "    <tr>\n",
              "      <th>max</th>\n",
              "      <td>NaN</td>\n",
              "      <td>NaN</td>\n",
              "      <td>NaN</td>\n",
              "      <td>NaN</td>\n",
              "      <td>NaN</td>\n",
              "      <td>NaN</td>\n",
              "      <td>9.300000</td>\n",
              "      <td>NaN</td>\n",
              "      <td>100.000000</td>\n",
              "      <td>NaN</td>\n",
              "      <td>NaN</td>\n",
              "      <td>NaN</td>\n",
              "      <td>NaN</td>\n",
              "      <td>NaN</td>\n",
              "      <td>2.343110e+06</td>\n",
              "      <td>NaN</td>\n",
              "    </tr>\n",
              "  </tbody>\n",
              "</table>\n",
              "</div>\n",
              "      <button class=\"colab-df-convert\" onclick=\"convertToInteractive('df-cb91b23d-8b35-45a8-992a-49ad1b377d64')\"\n",
              "              title=\"Convert this dataframe to an interactive table.\"\n",
              "              style=\"display:none;\">\n",
              "        \n",
              "  <svg xmlns=\"http://www.w3.org/2000/svg\" height=\"24px\"viewBox=\"0 0 24 24\"\n",
              "       width=\"24px\">\n",
              "    <path d=\"M0 0h24v24H0V0z\" fill=\"none\"/>\n",
              "    <path d=\"M18.56 5.44l.94 2.06.94-2.06 2.06-.94-2.06-.94-.94-2.06-.94 2.06-2.06.94zm-11 1L8.5 8.5l.94-2.06 2.06-.94-2.06-.94L8.5 2.5l-.94 2.06-2.06.94zm10 10l.94 2.06.94-2.06 2.06-.94-2.06-.94-.94-2.06-.94 2.06-2.06.94z\"/><path d=\"M17.41 7.96l-1.37-1.37c-.4-.4-.92-.59-1.43-.59-.52 0-1.04.2-1.43.59L10.3 9.45l-7.72 7.72c-.78.78-.78 2.05 0 2.83L4 21.41c.39.39.9.59 1.41.59.51 0 1.02-.2 1.41-.59l7.78-7.78 2.81-2.81c.8-.78.8-2.07 0-2.86zM5.41 20L4 18.59l7.72-7.72 1.47 1.35L5.41 20z\"/>\n",
              "  </svg>\n",
              "      </button>\n",
              "      \n",
              "  <style>\n",
              "    .colab-df-container {\n",
              "      display:flex;\n",
              "      flex-wrap:wrap;\n",
              "      gap: 12px;\n",
              "    }\n",
              "\n",
              "    .colab-df-convert {\n",
              "      background-color: #E8F0FE;\n",
              "      border: none;\n",
              "      border-radius: 50%;\n",
              "      cursor: pointer;\n",
              "      display: none;\n",
              "      fill: #1967D2;\n",
              "      height: 32px;\n",
              "      padding: 0 0 0 0;\n",
              "      width: 32px;\n",
              "    }\n",
              "\n",
              "    .colab-df-convert:hover {\n",
              "      background-color: #E2EBFA;\n",
              "      box-shadow: 0px 1px 2px rgba(60, 64, 67, 0.3), 0px 1px 3px 1px rgba(60, 64, 67, 0.15);\n",
              "      fill: #174EA6;\n",
              "    }\n",
              "\n",
              "    [theme=dark] .colab-df-convert {\n",
              "      background-color: #3B4455;\n",
              "      fill: #D2E3FC;\n",
              "    }\n",
              "\n",
              "    [theme=dark] .colab-df-convert:hover {\n",
              "      background-color: #434B5C;\n",
              "      box-shadow: 0px 1px 3px 1px rgba(0, 0, 0, 0.15);\n",
              "      filter: drop-shadow(0px 1px 2px rgba(0, 0, 0, 0.3));\n",
              "      fill: #FFFFFF;\n",
              "    }\n",
              "  </style>\n",
              "\n",
              "      <script>\n",
              "        const buttonEl =\n",
              "          document.querySelector('#df-cb91b23d-8b35-45a8-992a-49ad1b377d64 button.colab-df-convert');\n",
              "        buttonEl.style.display =\n",
              "          google.colab.kernel.accessAllowed ? 'block' : 'none';\n",
              "\n",
              "        async function convertToInteractive(key) {\n",
              "          const element = document.querySelector('#df-cb91b23d-8b35-45a8-992a-49ad1b377d64');\n",
              "          const dataTable =\n",
              "            await google.colab.kernel.invokeFunction('convertToInteractive',\n",
              "                                                     [key], {});\n",
              "          if (!dataTable) return;\n",
              "\n",
              "          const docLinkHtml = 'Like what you see? Visit the ' +\n",
              "            '<a target=\"_blank\" href=https://colab.research.google.com/notebooks/data_table.ipynb>data table notebook</a>'\n",
              "            + ' to learn more about interactive tables.';\n",
              "          element.innerHTML = '';\n",
              "          dataTable['output_type'] = 'display_data';\n",
              "          await google.colab.output.renderOutput(dataTable, element);\n",
              "          const docLink = document.createElement('div');\n",
              "          docLink.innerHTML = docLinkHtml;\n",
              "          element.appendChild(docLink);\n",
              "        }\n",
              "      </script>\n",
              "    </div>\n",
              "  </div>\n",
              "  "
            ]
          },
          "metadata": {},
          "execution_count": 65
        }
      ]
    },
    {
      "cell_type": "markdown",
      "source": [
        "*Movie with the best performance was \"The Shawshank Redemption\", Directed by Steven Spielberg starring; Tom Hanks and Emma Watson with IMDB Rating of 9.3*"
      ],
      "metadata": {
        "id": "jFlbdw-LIVA9"
      }
    },
    {
      "cell_type": "code",
      "source": [
        "df[\"Gross\"] = df[\"Gross\"].replace(\",\", \"\", regex=True)\n",
        "\n",
        "df[\"Gross\"] = df[\"Gross\"].astype(int)"
      ],
      "metadata": {
        "id": "RBsJBsu1ibun"
      },
      "execution_count": 66,
      "outputs": []
    },
    {
      "cell_type": "code",
      "source": [
        "# stats for all columns\n",
        "\n",
        "df.describe()"
      ],
      "metadata": {
        "colab": {
          "base_uri": "https://localhost:8080/",
          "height": 300
        },
        "id": "-AlzMbLYtWBW",
        "outputId": "d4394ef7-746e-46f4-8473-fafb85e707dd"
      },
      "execution_count": 67,
      "outputs": [
        {
          "output_type": "execute_result",
          "data": {
            "text/plain": [
              "       IMDB_Rating  Meta_score   No_of_Votes         Gross\n",
              "count   714.000000  714.000000  7.140000e+02  7.140000e+02\n",
              "mean      7.937115   77.158263  3.561348e+05  7.851359e+07\n",
              "std       0.293278   12.401144  3.539011e+05  1.149780e+08\n",
              "min       7.600000   28.000000  2.522900e+04  1.305000e+03\n",
              "25%       7.700000   70.000000  9.600975e+04  6.157408e+06\n",
              "50%       7.900000   78.000000  2.366025e+05  3.485015e+07\n",
              "75%       8.100000   86.000000  5.077922e+05  1.024641e+08\n",
              "max       9.300000  100.000000  2.343110e+06  9.366622e+08"
            ],
            "text/html": [
              "\n",
              "  <div id=\"df-9ba972c0-772d-45f9-af84-5621c4439f65\">\n",
              "    <div class=\"colab-df-container\">\n",
              "      <div>\n",
              "<style scoped>\n",
              "    .dataframe tbody tr th:only-of-type {\n",
              "        vertical-align: middle;\n",
              "    }\n",
              "\n",
              "    .dataframe tbody tr th {\n",
              "        vertical-align: top;\n",
              "    }\n",
              "\n",
              "    .dataframe thead th {\n",
              "        text-align: right;\n",
              "    }\n",
              "</style>\n",
              "<table border=\"1\" class=\"dataframe\">\n",
              "  <thead>\n",
              "    <tr style=\"text-align: right;\">\n",
              "      <th></th>\n",
              "      <th>IMDB_Rating</th>\n",
              "      <th>Meta_score</th>\n",
              "      <th>No_of_Votes</th>\n",
              "      <th>Gross</th>\n",
              "    </tr>\n",
              "  </thead>\n",
              "  <tbody>\n",
              "    <tr>\n",
              "      <th>count</th>\n",
              "      <td>714.000000</td>\n",
              "      <td>714.000000</td>\n",
              "      <td>7.140000e+02</td>\n",
              "      <td>7.140000e+02</td>\n",
              "    </tr>\n",
              "    <tr>\n",
              "      <th>mean</th>\n",
              "      <td>7.937115</td>\n",
              "      <td>77.158263</td>\n",
              "      <td>3.561348e+05</td>\n",
              "      <td>7.851359e+07</td>\n",
              "    </tr>\n",
              "    <tr>\n",
              "      <th>std</th>\n",
              "      <td>0.293278</td>\n",
              "      <td>12.401144</td>\n",
              "      <td>3.539011e+05</td>\n",
              "      <td>1.149780e+08</td>\n",
              "    </tr>\n",
              "    <tr>\n",
              "      <th>min</th>\n",
              "      <td>7.600000</td>\n",
              "      <td>28.000000</td>\n",
              "      <td>2.522900e+04</td>\n",
              "      <td>1.305000e+03</td>\n",
              "    </tr>\n",
              "    <tr>\n",
              "      <th>25%</th>\n",
              "      <td>7.700000</td>\n",
              "      <td>70.000000</td>\n",
              "      <td>9.600975e+04</td>\n",
              "      <td>6.157408e+06</td>\n",
              "    </tr>\n",
              "    <tr>\n",
              "      <th>50%</th>\n",
              "      <td>7.900000</td>\n",
              "      <td>78.000000</td>\n",
              "      <td>2.366025e+05</td>\n",
              "      <td>3.485015e+07</td>\n",
              "    </tr>\n",
              "    <tr>\n",
              "      <th>75%</th>\n",
              "      <td>8.100000</td>\n",
              "      <td>86.000000</td>\n",
              "      <td>5.077922e+05</td>\n",
              "      <td>1.024641e+08</td>\n",
              "    </tr>\n",
              "    <tr>\n",
              "      <th>max</th>\n",
              "      <td>9.300000</td>\n",
              "      <td>100.000000</td>\n",
              "      <td>2.343110e+06</td>\n",
              "      <td>9.366622e+08</td>\n",
              "    </tr>\n",
              "  </tbody>\n",
              "</table>\n",
              "</div>\n",
              "      <button class=\"colab-df-convert\" onclick=\"convertToInteractive('df-9ba972c0-772d-45f9-af84-5621c4439f65')\"\n",
              "              title=\"Convert this dataframe to an interactive table.\"\n",
              "              style=\"display:none;\">\n",
              "        \n",
              "  <svg xmlns=\"http://www.w3.org/2000/svg\" height=\"24px\"viewBox=\"0 0 24 24\"\n",
              "       width=\"24px\">\n",
              "    <path d=\"M0 0h24v24H0V0z\" fill=\"none\"/>\n",
              "    <path d=\"M18.56 5.44l.94 2.06.94-2.06 2.06-.94-2.06-.94-.94-2.06-.94 2.06-2.06.94zm-11 1L8.5 8.5l.94-2.06 2.06-.94-2.06-.94L8.5 2.5l-.94 2.06-2.06.94zm10 10l.94 2.06.94-2.06 2.06-.94-2.06-.94-.94-2.06-.94 2.06-2.06.94z\"/><path d=\"M17.41 7.96l-1.37-1.37c-.4-.4-.92-.59-1.43-.59-.52 0-1.04.2-1.43.59L10.3 9.45l-7.72 7.72c-.78.78-.78 2.05 0 2.83L4 21.41c.39.39.9.59 1.41.59.51 0 1.02-.2 1.41-.59l7.78-7.78 2.81-2.81c.8-.78.8-2.07 0-2.86zM5.41 20L4 18.59l7.72-7.72 1.47 1.35L5.41 20z\"/>\n",
              "  </svg>\n",
              "      </button>\n",
              "      \n",
              "  <style>\n",
              "    .colab-df-container {\n",
              "      display:flex;\n",
              "      flex-wrap:wrap;\n",
              "      gap: 12px;\n",
              "    }\n",
              "\n",
              "    .colab-df-convert {\n",
              "      background-color: #E8F0FE;\n",
              "      border: none;\n",
              "      border-radius: 50%;\n",
              "      cursor: pointer;\n",
              "      display: none;\n",
              "      fill: #1967D2;\n",
              "      height: 32px;\n",
              "      padding: 0 0 0 0;\n",
              "      width: 32px;\n",
              "    }\n",
              "\n",
              "    .colab-df-convert:hover {\n",
              "      background-color: #E2EBFA;\n",
              "      box-shadow: 0px 1px 2px rgba(60, 64, 67, 0.3), 0px 1px 3px 1px rgba(60, 64, 67, 0.15);\n",
              "      fill: #174EA6;\n",
              "    }\n",
              "\n",
              "    [theme=dark] .colab-df-convert {\n",
              "      background-color: #3B4455;\n",
              "      fill: #D2E3FC;\n",
              "    }\n",
              "\n",
              "    [theme=dark] .colab-df-convert:hover {\n",
              "      background-color: #434B5C;\n",
              "      box-shadow: 0px 1px 3px 1px rgba(0, 0, 0, 0.15);\n",
              "      filter: drop-shadow(0px 1px 2px rgba(0, 0, 0, 0.3));\n",
              "      fill: #FFFFFF;\n",
              "    }\n",
              "  </style>\n",
              "\n",
              "      <script>\n",
              "        const buttonEl =\n",
              "          document.querySelector('#df-9ba972c0-772d-45f9-af84-5621c4439f65 button.colab-df-convert');\n",
              "        buttonEl.style.display =\n",
              "          google.colab.kernel.accessAllowed ? 'block' : 'none';\n",
              "\n",
              "        async function convertToInteractive(key) {\n",
              "          const element = document.querySelector('#df-9ba972c0-772d-45f9-af84-5621c4439f65');\n",
              "          const dataTable =\n",
              "            await google.colab.kernel.invokeFunction('convertToInteractive',\n",
              "                                                     [key], {});\n",
              "          if (!dataTable) return;\n",
              "\n",
              "          const docLinkHtml = 'Like what you see? Visit the ' +\n",
              "            '<a target=\"_blank\" href=https://colab.research.google.com/notebooks/data_table.ipynb>data table notebook</a>'\n",
              "            + ' to learn more about interactive tables.';\n",
              "          element.innerHTML = '';\n",
              "          dataTable['output_type'] = 'display_data';\n",
              "          await google.colab.output.renderOutput(dataTable, element);\n",
              "          const docLink = document.createElement('div');\n",
              "          docLink.innerHTML = docLinkHtml;\n",
              "          element.appendChild(docLink);\n",
              "        }\n",
              "      </script>\n",
              "    </div>\n",
              "  </div>\n",
              "  "
            ]
          },
          "metadata": {},
          "execution_count": 67
        }
      ]
    },
    {
      "cell_type": "markdown",
      "source": [
        "Average rating of the movies that made into the list is \"7.93\"\n",
        "\n",
        "Lowest being \"7.6\", while highest being \"9.3\".\n",
        "\n",
        "The IQR range was 0.4.\n",
        "\n",
        "Avg # of votes per movie were 350k+\n",
        "\n",
        "Avg meta-score was 77.5 "
      ],
      "metadata": {
        "id": "jD4LraRAJf5s"
      }
    },
    {
      "cell_type": "markdown",
      "source": [
        "***Movie with the 'Highest Rating'***"
      ],
      "metadata": {
        "id": "wxtFtUCQ8scw"
      }
    },
    {
      "cell_type": "markdown",
      "source": [
        "***Movies with the 'Lowest Rating'***"
      ],
      "metadata": {
        "id": "d0TDalVS_YW4"
      }
    },
    {
      "cell_type": "code",
      "source": [
        "df[df['IMDB_Rating']==7.6].Series_Title"
      ],
      "metadata": {
        "colab": {
          "base_uri": "https://localhost:8080/"
        },
        "id": "pd-qdHhAgtq7",
        "outputId": "cfca91d7-41c1-47de-e6a6-6fa1b8b914aa"
      },
      "execution_count": 68,
      "outputs": [
        {
          "output_type": "execute_result",
          "data": {
            "text/plain": [
              "878                           Searching\n",
              "879    Once Upon a Time... in Hollywood\n",
              "880                            Nelyubov\n",
              "881                 The Florida Project\n",
              "883                              Gifted\n",
              "                     ...               \n",
              "990                        Giù la testa\n",
              "991                      Kelly's Heroes\n",
              "992                     The Jungle Book\n",
              "994                  A Hard Day's Night\n",
              "997               From Here to Eternity\n",
              "Name: Series_Title, Length: 107, dtype: object"
            ]
          },
          "metadata": {},
          "execution_count": 68
        }
      ]
    },
    {
      "cell_type": "markdown",
      "source": [
        "***Relation Between IMDB Rating and Meta***"
      ],
      "metadata": {
        "id": "pj1aUShH_wRc"
      }
    },
    {
      "cell_type": "code",
      "source": [
        "# finding relation between Meta score and Rating\n",
        "relations = df.corr()[\"IMDB_Rating\"].sort_values()\n",
        "sns.regplot(data=df, x= \"Meta_score\", y = \"IMDB_Rating\")\n",
        "\n"
      ],
      "metadata": {
        "colab": {
          "base_uri": "https://localhost:8080/",
          "height": 297
        },
        "id": "2KV47GplLO8C",
        "outputId": "579a76ab-33fc-4eed-cca6-238e1c19187b"
      },
      "execution_count": 69,
      "outputs": [
        {
          "output_type": "execute_result",
          "data": {
            "text/plain": [
              "<matplotlib.axes._subplots.AxesSubplot at 0x7fa206149ed0>"
            ]
          },
          "metadata": {},
          "execution_count": 69
        },
        {
          "output_type": "display_data",
          "data": {
            "text/plain": [
              "<Figure size 432x288 with 1 Axes>"
            ],
            "image/png": "[encoded data removed]"
          },
          "metadata": {
            "needs_background": "light"
          }
        }
      ]
    },
    {
      "cell_type": "markdown",
      "source": [
        "The slope is very minimal thus the relation is there very limited."
      ],
      "metadata": {
        "id": "-HpwU18HPYiT"
      }
    },
    {
      "cell_type": "code",
      "source": [
        "relations\n"
      ],
      "metadata": {
        "colab": {
          "base_uri": "https://localhost:8080/"
        },
        "id": "CO3ZbmuISQ23",
        "outputId": "eb397b6d-b705-4362-bf89-52b2407bd67e"
      },
      "execution_count": 70,
      "outputs": [
        {
          "output_type": "execute_result",
          "data": {
            "text/plain": [
              "Gross          0.125992\n",
              "Meta_score     0.280894\n",
              "No_of_Votes    0.623142\n",
              "IMDB_Rating    1.000000\n",
              "Name: IMDB_Rating, dtype: float64"
            ]
          },
          "metadata": {},
          "execution_count": 70
        }
      ]
    },
    {
      "cell_type": "code",
      "source": [
        "sns.regplot(data=df, x= \"No_of_Votes\", y= \"IMDB_Rating\", color='red')"
      ],
      "metadata": {
        "colab": {
          "base_uri": "https://localhost:8080/",
          "height": 297
        },
        "id": "Urb27e-TTpxI",
        "outputId": "0431343c-d48d-4cc1-a1ad-aebaca9dc46f"
      },
      "execution_count": 71,
      "outputs": [
        {
          "output_type": "execute_result",
          "data": {
            "text/plain": [
              "<matplotlib.axes._subplots.AxesSubplot at 0x7fa2061da3d0>"
            ]
          },
          "metadata": {},
          "execution_count": 71
        },
        {
          "output_type": "display_data",
          "data": {
            "text/plain": [
              "<Figure size 432x288 with 1 Axes>"
            ],
            "image/png": "[encoded data removed]"
          },
          "metadata": {
            "needs_background": "light"
          }
        }
      ]
    },
    {
      "cell_type": "markdown",
      "source": [
        "Apparently, the number of votes had the greatest impact on ratings."
      ],
      "metadata": {
        "id": "d8cJEGPzSjhY"
      }
    },
    {
      "cell_type": "markdown",
      "source": [
        "**The director with the most ratings** "
      ],
      "metadata": {
        "id": "vghDIOT-vu5m"
      }
    },
    {
      "cell_type": "code",
      "source": [
        "df.groupby('Director')['IMDB_Rating'].mean().sort_values(ascending=False)"
      ],
      "metadata": {
        "colab": {
          "base_uri": "https://localhost:8080/"
        },
        "id": "bqLu4bghv4qK",
        "outputId": "83870f3b-d22e-43bd-b7bb-e0a17346ca6a"
      },
      "execution_count": 72,
      "outputs": [
        {
          "output_type": "execute_result",
          "data": {
            "text/plain": [
              "Director\n",
              "Frank Darabont      8.95\n",
              "Lana Wachowski      8.70\n",
              "Irvin Kershner      8.70\n",
              "George Lucas        8.60\n",
              "Roberto Benigni     8.60\n",
              "                    ... \n",
              "Matt Reeves         7.60\n",
              "John Lee Hancock    7.60\n",
              "Tony Bancroft       7.60\n",
              "Alex Proyas         7.60\n",
              "Ronny Yu            7.60\n",
              "Name: IMDB_Rating, Length: 402, dtype: float64"
            ]
          },
          "metadata": {},
          "execution_count": 72
        }
      ]
    },
    {
      "cell_type": "markdown",
      "source": [
        "**The Genre that had the Highest Audience**"
      ],
      "metadata": {
        "id": "5ufO7lVI1y0W"
      }
    },
    {
      "cell_type": "code",
      "source": [
        "df.groupby('Genre')['No_of_Votes'].mean().sort_values()"
      ],
      "metadata": {
        "colab": {
          "base_uri": "https://localhost:8080/"
        },
        "id": "HvmiYg0iwyGW",
        "outputId": "7bc5be39-015c-4a7e-b202-c35e910f3be8"
      },
      "execution_count": 73,
      "outputs": [
        {
          "output_type": "execute_result",
          "data": {
            "text/plain": [
              "Genre\n",
              "Animation, Sci-Fi             2.522900e+04\n",
              "Animation, Drama, Romance     2.707100e+04\n",
              "Drama, History, Music         2.800300e+04\n",
              "Animation, Action, Fantasy    2.921000e+04\n",
              "Drama, War, Western           3.014400e+04\n",
              "                                  ...     \n",
              "Adventure, Drama, Sci-Fi      9.125223e+05\n",
              "Action, Adventure             9.255334e+05\n",
              "Action, Adventure, Fantasy    9.547677e+05\n",
              "Crime, Mystery, Thriller      9.912080e+05\n",
              "Action, Sci-Fi                1.157242e+06\n",
              "Name: No_of_Votes, Length: 172, dtype: float64"
            ]
          },
          "metadata": {},
          "execution_count": 73
        }
      ]
    },
    {
      "cell_type": "markdown",
      "source": [
        "*Highest Audience was Recieved by 'Action, Sci-FI' Genre, lowest being \"Action & Sci-fi*"
      ],
      "metadata": {
        "id": "qTjdin91192X"
      }
    },
    {
      "cell_type": "markdown",
      "source": [
        "**The year that had the Highest No. Of Votes**"
      ],
      "metadata": {
        "id": "agm8LZ_H2MRD"
      }
    },
    {
      "cell_type": "code",
      "source": [
        "df.groupby('Released_Year')['No_of_Votes'].mean().sort_values(ascending=False)\n"
      ],
      "metadata": {
        "colab": {
          "base_uri": "https://localhost:8080/"
        },
        "id": "GEJ4BVHl2rYG",
        "outputId": "1c14e3ed-e839-42bf-af43-179628e41c95"
      },
      "execution_count": 74,
      "outputs": [
        {
          "output_type": "execute_result",
          "data": {
            "text/plain": [
              "Released_Year\n",
              "1994    717968.166667\n",
              "2012    650147.571429\n",
              "1977    556087.333333\n",
              "1975    549500.750000\n",
              "1999    536961.058824\n",
              "            ...      \n",
              "1930     57318.000000\n",
              "1970     55382.000000\n",
              "1961     51037.000000\n",
              "1938     47175.000000\n",
              "1953     43374.000000\n",
              "Name: No_of_Votes, Length: 83, dtype: float64"
            ]
          },
          "metadata": {},
          "execution_count": 74
        }
      ]
    },
    {
      "cell_type": "markdown",
      "source": [
        "1994 was the year that recieved most collective votes by viewers. (Peak Year)"
      ],
      "metadata": {
        "id": "DU6H2qGgY36f"
      }
    },
    {
      "cell_type": "code",
      "source": [
        "# finding the years and movies with most revenue\n",
        "\n",
        "df.groupby('Released_Year')[\"Gross\"].mean().sort_values(ascending=False)"
      ],
      "metadata": {
        "colab": {
          "base_uri": "https://localhost:8080/"
        },
        "id": "6PVaWnaIY2MJ",
        "outputId": "3beefdc1-9318-475c-8cf9-472a572fcdb5"
      },
      "execution_count": 75,
      "outputs": [
        {
          "output_type": "execute_result",
          "data": {
            "text/plain": [
              "Released_Year\n",
              "2018    2.168498e+08\n",
              "2012    1.811284e+08\n",
              "PG      1.738379e+08\n",
              "1977    1.646763e+08\n",
              "2019    1.603896e+08\n",
              "            ...     \n",
              "1942    1.024560e+06\n",
              "1949    4.491910e+05\n",
              "1936    1.632450e+05\n",
              "1931    1.918100e+04\n",
              "1950    1.017700e+04\n",
              "Name: Gross, Length: 83, dtype: float64"
            ]
          },
          "metadata": {},
          "execution_count": 75
        }
      ]
    },
    {
      "cell_type": "markdown",
      "source": [
        "***Most revenue was generated in 2018***"
      ],
      "metadata": {
        "id": "tO6GVN7Myrqd"
      }
    },
    {
      "cell_type": "code",
      "source": [
        "# Best performing film of 2018\n",
        "\n",
        "df[df[\"Released_Year\"]==\"2018\"].describe(include=\"all\")\n"
      ],
      "metadata": {
        "colab": {
          "base_uri": "https://localhost:8080/",
          "height": 545
        },
        "id": "ekRsbgKVyygE",
        "outputId": "82fbfb98-77fb-4996-a254-de510c6351d0"
      },
      "execution_count": 82,
      "outputs": [
        {
          "output_type": "execute_result",
          "data": {
            "text/plain": [
              "                                              Poster_Link Series_Title  \\\n",
              "count                                                  12           12   \n",
              "unique                                                 12           12   \n",
              "top     https://m.media-amazon.com/images/M/MV5BMmExNz...   Capharnaüm   \n",
              "freq                                                    1            1   \n",
              "mean                                                  NaN          NaN   \n",
              "std                                                   NaN          NaN   \n",
              "min                                                   NaN          NaN   \n",
              "25%                                                   NaN          NaN   \n",
              "50%                                                   NaN          NaN   \n",
              "75%                                                   NaN          NaN   \n",
              "max                                                   NaN          NaN   \n",
              "\n",
              "       Released_Year Certificate  Runtime                         Genre  \\\n",
              "count             12          12       12                            12   \n",
              "unique             1           5       12                            11   \n",
              "top             2018          UA  126 min  Animation, Action, Adventure   \n",
              "freq              12           6        1                             2   \n",
              "mean             NaN         NaN      NaN                           NaN   \n",
              "std              NaN         NaN      NaN                           NaN   \n",
              "min              NaN         NaN      NaN                           NaN   \n",
              "25%              NaN         NaN      NaN                           NaN   \n",
              "50%              NaN         NaN      NaN                           NaN   \n",
              "75%              NaN         NaN      NaN                           NaN   \n",
              "max              NaN         NaN      NaN                           NaN   \n",
              "\n",
              "        IMDB_Rating                                           Overview  \\\n",
              "count     12.000000                                                 12   \n",
              "unique          NaN                                                 12   \n",
              "top             NaN  While serving a five-year sentence for a viole...   \n",
              "freq            NaN                                                  1   \n",
              "mean       7.950000                                                NaN   \n",
              "std        0.326134                                                NaN   \n",
              "min        7.600000                                                NaN   \n",
              "25%        7.675000                                                NaN   \n",
              "50%        7.900000                                                NaN   \n",
              "75%        8.250000                                                NaN   \n",
              "max        8.400000                                                NaN   \n",
              "\n",
              "        Meta_score       Director           Star1              Star2  \\\n",
              "count    12.000000             12              12                 12   \n",
              "unique         NaN             12              12                 12   \n",
              "top            NaN  Nadine Labaki  Zain Al Rafeea  Yordanos Shiferaw   \n",
              "freq           NaN              1               1                  1   \n",
              "mean     76.166667            NaN             NaN                NaN   \n",
              "std      12.334971            NaN             NaN                NaN   \n",
              "min      49.000000            NaN             NaN                NaN   \n",
              "25%      68.750000            NaN             NaN                NaN   \n",
              "50%      77.500000            NaN             NaN                NaN   \n",
              "75%      86.250000            NaN             NaN                NaN   \n",
              "max      93.000000            NaN             NaN                NaN   \n",
              "\n",
              "                              Star3             Star4    No_of_Votes  \\\n",
              "count                            12                12      12.000000   \n",
              "unique                           12                12            NaN   \n",
              "top     Boluwatife Treasure Bankole  Kawsar Al Haddad            NaN   \n",
              "freq                              1                 1            NaN   \n",
              "mean                            NaN               NaN  316447.916667   \n",
              "std                             NaN               NaN  216630.506898   \n",
              "min                             NaN               NaN   62635.000000   \n",
              "25%                             NaN               NaN  140408.500000   \n",
              "50%                             NaN               NaN  312784.500000   \n",
              "75%                             NaN               NaN  396000.250000   \n",
              "max                             NaN               NaN  834477.000000   \n",
              "\n",
              "               Gross  \n",
              "count   1.200000e+01  \n",
              "unique           NaN  \n",
              "top              NaN  \n",
              "freq             NaN  \n",
              "mean    2.168498e+08  \n",
              "std     2.254375e+08  \n",
              "min     1.661096e+06  \n",
              "25%     3.051666e+07  \n",
              "50%     2.027651e+08  \n",
              "75%     2.462673e+08  \n",
              "max     6.788155e+08  "
            ],
            "text/html": [
              "\n",
              "  <div id=\"df-dd27410b-7f58-439f-9b9b-b1395b1e2b33\">\n",
              "    <div class=\"colab-df-container\">\n",
              "      <div>\n",
              "<style scoped>\n",
              "    .dataframe tbody tr th:only-of-type {\n",
              "        vertical-align: middle;\n",
              "    }\n",
              "\n",
              "    .dataframe tbody tr th {\n",
              "        vertical-align: top;\n",
              "    }\n",
              "\n",
              "    .dataframe thead th {\n",
              "        text-align: right;\n",
              "    }\n",
              "</style>\n",
              "<table border=\"1\" class=\"dataframe\">\n",
              "  <thead>\n",
              "    <tr style=\"text-align: right;\">\n",
              "      <th></th>\n",
              "      <th>Poster_Link</th>\n",
              "      <th>Series_Title</th>\n",
              "      <th>Released_Year</th>\n",
              "      <th>Certificate</th>\n",
              "      <th>Runtime</th>\n",
              "      <th>Genre</th>\n",
              "      <th>IMDB_Rating</th>\n",
              "      <th>Overview</th>\n",
              "      <th>Meta_score</th>\n",
              "      <th>Director</th>\n",
              "      <th>Star1</th>\n",
              "      <th>Star2</th>\n",
              "      <th>Star3</th>\n",
              "      <th>Star4</th>\n",
              "      <th>No_of_Votes</th>\n",
              "      <th>Gross</th>\n",
              "    </tr>\n",
              "  </thead>\n",
              "  <tbody>\n",
              "    <tr>\n",
              "      <th>count</th>\n",
              "      <td>12</td>\n",
              "      <td>12</td>\n",
              "      <td>12</td>\n",
              "      <td>12</td>\n",
              "      <td>12</td>\n",
              "      <td>12</td>\n",
              "      <td>12.000000</td>\n",
              "      <td>12</td>\n",
              "      <td>12.000000</td>\n",
              "      <td>12</td>\n",
              "      <td>12</td>\n",
              "      <td>12</td>\n",
              "      <td>12</td>\n",
              "      <td>12</td>\n",
              "      <td>12.000000</td>\n",
              "      <td>1.200000e+01</td>\n",
              "    </tr>\n",
              "    <tr>\n",
              "      <th>unique</th>\n",
              "      <td>12</td>\n",
              "      <td>12</td>\n",
              "      <td>1</td>\n",
              "      <td>5</td>\n",
              "      <td>12</td>\n",
              "      <td>11</td>\n",
              "      <td>NaN</td>\n",
              "      <td>12</td>\n",
              "      <td>NaN</td>\n",
              "      <td>12</td>\n",
              "      <td>12</td>\n",
              "      <td>12</td>\n",
              "      <td>12</td>\n",
              "      <td>12</td>\n",
              "      <td>NaN</td>\n",
              "      <td>NaN</td>\n",
              "    </tr>\n",
              "    <tr>\n",
              "      <th>top</th>\n",
              "      <td>https://m.media-amazon.com/images/M/MV5BMmExNz...</td>\n",
              "      <td>Capharnaüm</td>\n",
              "      <td>2018</td>\n",
              "      <td>UA</td>\n",
              "      <td>126 min</td>\n",
              "      <td>Animation, Action, Adventure</td>\n",
              "      <td>NaN</td>\n",
              "      <td>While serving a five-year sentence for a viole...</td>\n",
              "      <td>NaN</td>\n",
              "      <td>Nadine Labaki</td>\n",
              "      <td>Zain Al Rafeea</td>\n",
              "      <td>Yordanos Shiferaw</td>\n",
              "      <td>Boluwatife Treasure Bankole</td>\n",
              "      <td>Kawsar Al Haddad</td>\n",
              "      <td>NaN</td>\n",
              "      <td>NaN</td>\n",
              "    </tr>\n",
              "    <tr>\n",
              "      <th>freq</th>\n",
              "      <td>1</td>\n",
              "      <td>1</td>\n",
              "      <td>12</td>\n",
              "      <td>6</td>\n",
              "      <td>1</td>\n",
              "      <td>2</td>\n",
              "      <td>NaN</td>\n",
              "      <td>1</td>\n",
              "      <td>NaN</td>\n",
              "      <td>1</td>\n",
              "      <td>1</td>\n",
              "      <td>1</td>\n",
              "      <td>1</td>\n",
              "      <td>1</td>\n",
              "      <td>NaN</td>\n",
              "      <td>NaN</td>\n",
              "    </tr>\n",
              "    <tr>\n",
              "      <th>mean</th>\n",
              "      <td>NaN</td>\n",
              "      <td>NaN</td>\n",
              "      <td>NaN</td>\n",
              "      <td>NaN</td>\n",
              "      <td>NaN</td>\n",
              "      <td>NaN</td>\n",
              "      <td>7.950000</td>\n",
              "      <td>NaN</td>\n",
              "      <td>76.166667</td>\n",
              "      <td>NaN</td>\n",
              "      <td>NaN</td>\n",
              "      <td>NaN</td>\n",
              "      <td>NaN</td>\n",
              "      <td>NaN</td>\n",
              "      <td>316447.916667</td>\n",
              "      <td>2.168498e+08</td>\n",
              "    </tr>\n",
              "    <tr>\n",
              "      <th>std</th>\n",
              "      <td>NaN</td>\n",
              "      <td>NaN</td>\n",
              "      <td>NaN</td>\n",
              "      <td>NaN</td>\n",
              "      <td>NaN</td>\n",
              "      <td>NaN</td>\n",
              "      <td>0.326134</td>\n",
              "      <td>NaN</td>\n",
              "      <td>12.334971</td>\n",
              "      <td>NaN</td>\n",
              "      <td>NaN</td>\n",
              "      <td>NaN</td>\n",
              "      <td>NaN</td>\n",
              "      <td>NaN</td>\n",
              "      <td>216630.506898</td>\n",
              "      <td>2.254375e+08</td>\n",
              "    </tr>\n",
              "    <tr>\n",
              "      <th>min</th>\n",
              "      <td>NaN</td>\n",
              "      <td>NaN</td>\n",
              "      <td>NaN</td>\n",
              "      <td>NaN</td>\n",
              "      <td>NaN</td>\n",
              "      <td>NaN</td>\n",
              "      <td>7.600000</td>\n",
              "      <td>NaN</td>\n",
              "      <td>49.000000</td>\n",
              "      <td>NaN</td>\n",
              "      <td>NaN</td>\n",
              "      <td>NaN</td>\n",
              "      <td>NaN</td>\n",
              "      <td>NaN</td>\n",
              "      <td>62635.000000</td>\n",
              "      <td>1.661096e+06</td>\n",
              "    </tr>\n",
              "    <tr>\n",
              "      <th>25%</th>\n",
              "      <td>NaN</td>\n",
              "      <td>NaN</td>\n",
              "      <td>NaN</td>\n",
              "      <td>NaN</td>\n",
              "      <td>NaN</td>\n",
              "      <td>NaN</td>\n",
              "      <td>7.675000</td>\n",
              "      <td>NaN</td>\n",
              "      <td>68.750000</td>\n",
              "      <td>NaN</td>\n",
              "      <td>NaN</td>\n",
              "      <td>NaN</td>\n",
              "      <td>NaN</td>\n",
              "      <td>NaN</td>\n",
              "      <td>140408.500000</td>\n",
              "      <td>3.051666e+07</td>\n",
              "    </tr>\n",
              "    <tr>\n",
              "      <th>50%</th>\n",
              "      <td>NaN</td>\n",
              "      <td>NaN</td>\n",
              "      <td>NaN</td>\n",
              "      <td>NaN</td>\n",
              "      <td>NaN</td>\n",
              "      <td>NaN</td>\n",
              "      <td>7.900000</td>\n",
              "      <td>NaN</td>\n",
              "      <td>77.500000</td>\n",
              "      <td>NaN</td>\n",
              "      <td>NaN</td>\n",
              "      <td>NaN</td>\n",
              "      <td>NaN</td>\n",
              "      <td>NaN</td>\n",
              "      <td>312784.500000</td>\n",
              "      <td>2.027651e+08</td>\n",
              "    </tr>\n",
              "    <tr>\n",
              "      <th>75%</th>\n",
              "      <td>NaN</td>\n",
              "      <td>NaN</td>\n",
              "      <td>NaN</td>\n",
              "      <td>NaN</td>\n",
              "      <td>NaN</td>\n",
              "      <td>NaN</td>\n",
              "      <td>8.250000</td>\n",
              "      <td>NaN</td>\n",
              "      <td>86.250000</td>\n",
              "      <td>NaN</td>\n",
              "      <td>NaN</td>\n",
              "      <td>NaN</td>\n",
              "      <td>NaN</td>\n",
              "      <td>NaN</td>\n",
              "      <td>396000.250000</td>\n",
              "      <td>2.462673e+08</td>\n",
              "    </tr>\n",
              "    <tr>\n",
              "      <th>max</th>\n",
              "      <td>NaN</td>\n",
              "      <td>NaN</td>\n",
              "      <td>NaN</td>\n",
              "      <td>NaN</td>\n",
              "      <td>NaN</td>\n",
              "      <td>NaN</td>\n",
              "      <td>8.400000</td>\n",
              "      <td>NaN</td>\n",
              "      <td>93.000000</td>\n",
              "      <td>NaN</td>\n",
              "      <td>NaN</td>\n",
              "      <td>NaN</td>\n",
              "      <td>NaN</td>\n",
              "      <td>NaN</td>\n",
              "      <td>834477.000000</td>\n",
              "      <td>6.788155e+08</td>\n",
              "    </tr>\n",
              "  </tbody>\n",
              "</table>\n",
              "</div>\n",
              "      <button class=\"colab-df-convert\" onclick=\"convertToInteractive('df-dd27410b-7f58-439f-9b9b-b1395b1e2b33')\"\n",
              "              title=\"Convert this dataframe to an interactive table.\"\n",
              "              style=\"display:none;\">\n",
              "        \n",
              "  <svg xmlns=\"http://www.w3.org/2000/svg\" height=\"24px\"viewBox=\"0 0 24 24\"\n",
              "       width=\"24px\">\n",
              "    <path d=\"M0 0h24v24H0V0z\" fill=\"none\"/>\n",
              "    <path d=\"M18.56 5.44l.94 2.06.94-2.06 2.06-.94-2.06-.94-.94-2.06-.94 2.06-2.06.94zm-11 1L8.5 8.5l.94-2.06 2.06-.94-2.06-.94L8.5 2.5l-.94 2.06-2.06.94zm10 10l.94 2.06.94-2.06 2.06-.94-2.06-.94-.94-2.06-.94 2.06-2.06.94z\"/><path d=\"M17.41 7.96l-1.37-1.37c-.4-.4-.92-.59-1.43-.59-.52 0-1.04.2-1.43.59L10.3 9.45l-7.72 7.72c-.78.78-.78 2.05 0 2.83L4 21.41c.39.39.9.59 1.41.59.51 0 1.02-.2 1.41-.59l7.78-7.78 2.81-2.81c.8-.78.8-2.07 0-2.86zM5.41 20L4 18.59l7.72-7.72 1.47 1.35L5.41 20z\"/>\n",
              "  </svg>\n",
              "      </button>\n",
              "      \n",
              "  <style>\n",
              "    .colab-df-container {\n",
              "      display:flex;\n",
              "      flex-wrap:wrap;\n",
              "      gap: 12px;\n",
              "    }\n",
              "\n",
              "    .colab-df-convert {\n",
              "      background-color: #E8F0FE;\n",
              "      border: none;\n",
              "      border-radius: 50%;\n",
              "      cursor: pointer;\n",
              "      display: none;\n",
              "      fill: #1967D2;\n",
              "      height: 32px;\n",
              "      padding: 0 0 0 0;\n",
              "      width: 32px;\n",
              "    }\n",
              "\n",
              "    .colab-df-convert:hover {\n",
              "      background-color: #E2EBFA;\n",
              "      box-shadow: 0px 1px 2px rgba(60, 64, 67, 0.3), 0px 1px 3px 1px rgba(60, 64, 67, 0.15);\n",
              "      fill: #174EA6;\n",
              "    }\n",
              "\n",
              "    [theme=dark] .colab-df-convert {\n",
              "      background-color: #3B4455;\n",
              "      fill: #D2E3FC;\n",
              "    }\n",
              "\n",
              "    [theme=dark] .colab-df-convert:hover {\n",
              "      background-color: #434B5C;\n",
              "      box-shadow: 0px 1px 3px 1px rgba(0, 0, 0, 0.15);\n",
              "      filter: drop-shadow(0px 1px 2px rgba(0, 0, 0, 0.3));\n",
              "      fill: #FFFFFF;\n",
              "    }\n",
              "  </style>\n",
              "\n",
              "      <script>\n",
              "        const buttonEl =\n",
              "          document.querySelector('#df-dd27410b-7f58-439f-9b9b-b1395b1e2b33 button.colab-df-convert');\n",
              "        buttonEl.style.display =\n",
              "          google.colab.kernel.accessAllowed ? 'block' : 'none';\n",
              "\n",
              "        async function convertToInteractive(key) {\n",
              "          const element = document.querySelector('#df-dd27410b-7f58-439f-9b9b-b1395b1e2b33');\n",
              "          const dataTable =\n",
              "            await google.colab.kernel.invokeFunction('convertToInteractive',\n",
              "                                                     [key], {});\n",
              "          if (!dataTable) return;\n",
              "\n",
              "          const docLinkHtml = 'Like what you see? Visit the ' +\n",
              "            '<a target=\"_blank\" href=https://colab.research.google.com/notebooks/data_table.ipynb>data table notebook</a>'\n",
              "            + ' to learn more about interactive tables.';\n",
              "          element.innerHTML = '';\n",
              "          dataTable['output_type'] = 'display_data';\n",
              "          await google.colab.output.renderOutput(dataTable, element);\n",
              "          const docLink = document.createElement('div');\n",
              "          docLink.innerHTML = docLinkHtml;\n",
              "          element.appendChild(docLink);\n",
              "        }\n",
              "      </script>\n",
              "    </div>\n",
              "  </div>\n",
              "  "
            ]
          },
          "metadata": {},
          "execution_count": 82
        }
      ]
    },
    {
      "cell_type": "code",
      "source": [
        "df[df[\"Series_Title\"]==\"Capharnaüm\"]"
      ],
      "metadata": {
        "colab": {
          "base_uri": "https://localhost:8080/",
          "height": 231
        },
        "id": "i6V-Oqrm1Kfl",
        "outputId": "ca41297d-808f-4eb7-dcce-1678079c9d2e"
      },
      "execution_count": 83,
      "outputs": [
        {
          "output_type": "execute_result",
          "data": {
            "text/plain": [
              "                                          Poster_Link Series_Title  \\\n",
              "53  https://m.media-amazon.com/images/M/MV5BMmExNz...   Capharnaüm   \n",
              "\n",
              "   Released_Year Certificate  Runtime  Genre  IMDB_Rating  \\\n",
              "53          2018           A  126 min  Drama          8.4   \n",
              "\n",
              "                                             Overview  Meta_score  \\\n",
              "53  While serving a five-year sentence for a viole...        75.0   \n",
              "\n",
              "         Director           Star1              Star2  \\\n",
              "53  Nadine Labaki  Zain Al Rafeea  Yordanos Shiferaw   \n",
              "\n",
              "                          Star3             Star4  No_of_Votes    Gross  \n",
              "53  Boluwatife Treasure Bankole  Kawsar Al Haddad        62635  1661096  "
            ],
            "text/html": [
              "\n",
              "  <div id=\"df-d145c9bd-652f-4d97-a91d-0cc4b60590f1\">\n",
              "    <div class=\"colab-df-container\">\n",
              "      <div>\n",
              "<style scoped>\n",
              "    .dataframe tbody tr th:only-of-type {\n",
              "        vertical-align: middle;\n",
              "    }\n",
              "\n",
              "    .dataframe tbody tr th {\n",
              "        vertical-align: top;\n",
              "    }\n",
              "\n",
              "    .dataframe thead th {\n",
              "        text-align: right;\n",
              "    }\n",
              "</style>\n",
              "<table border=\"1\" class=\"dataframe\">\n",
              "  <thead>\n",
              "    <tr style=\"text-align: right;\">\n",
              "      <th></th>\n",
              "      <th>Poster_Link</th>\n",
              "      <th>Series_Title</th>\n",
              "      <th>Released_Year</th>\n",
              "      <th>Certificate</th>\n",
              "      <th>Runtime</th>\n",
              "      <th>Genre</th>\n",
              "      <th>IMDB_Rating</th>\n",
              "      <th>Overview</th>\n",
              "      <th>Meta_score</th>\n",
              "      <th>Director</th>\n",
              "      <th>Star1</th>\n",
              "      <th>Star2</th>\n",
              "      <th>Star3</th>\n",
              "      <th>Star4</th>\n",
              "      <th>No_of_Votes</th>\n",
              "      <th>Gross</th>\n",
              "    </tr>\n",
              "  </thead>\n",
              "  <tbody>\n",
              "    <tr>\n",
              "      <th>53</th>\n",
              "      <td>https://m.media-amazon.com/images/M/MV5BMmExNz...</td>\n",
              "      <td>Capharnaüm</td>\n",
              "      <td>2018</td>\n",
              "      <td>A</td>\n",
              "      <td>126 min</td>\n",
              "      <td>Drama</td>\n",
              "      <td>8.4</td>\n",
              "      <td>While serving a five-year sentence for a viole...</td>\n",
              "      <td>75.0</td>\n",
              "      <td>Nadine Labaki</td>\n",
              "      <td>Zain Al Rafeea</td>\n",
              "      <td>Yordanos Shiferaw</td>\n",
              "      <td>Boluwatife Treasure Bankole</td>\n",
              "      <td>Kawsar Al Haddad</td>\n",
              "      <td>62635</td>\n",
              "      <td>1661096</td>\n",
              "    </tr>\n",
              "  </tbody>\n",
              "</table>\n",
              "</div>\n",
              "      <button class=\"colab-df-convert\" onclick=\"convertToInteractive('df-d145c9bd-652f-4d97-a91d-0cc4b60590f1')\"\n",
              "              title=\"Convert this dataframe to an interactive table.\"\n",
              "              style=\"display:none;\">\n",
              "        \n",
              "  <svg xmlns=\"http://www.w3.org/2000/svg\" height=\"24px\"viewBox=\"0 0 24 24\"\n",
              "       width=\"24px\">\n",
              "    <path d=\"M0 0h24v24H0V0z\" fill=\"none\"/>\n",
              "    <path d=\"M18.56 5.44l.94 2.06.94-2.06 2.06-.94-2.06-.94-.94-2.06-.94 2.06-2.06.94zm-11 1L8.5 8.5l.94-2.06 2.06-.94-2.06-.94L8.5 2.5l-.94 2.06-2.06.94zm10 10l.94 2.06.94-2.06 2.06-.94-2.06-.94-.94-2.06-.94 2.06-2.06.94z\"/><path d=\"M17.41 7.96l-1.37-1.37c-.4-.4-.92-.59-1.43-.59-.52 0-1.04.2-1.43.59L10.3 9.45l-7.72 7.72c-.78.78-.78 2.05 0 2.83L4 21.41c.39.39.9.59 1.41.59.51 0 1.02-.2 1.41-.59l7.78-7.78 2.81-2.81c.8-.78.8-2.07 0-2.86zM5.41 20L4 18.59l7.72-7.72 1.47 1.35L5.41 20z\"/>\n",
              "  </svg>\n",
              "      </button>\n",
              "      \n",
              "  <style>\n",
              "    .colab-df-container {\n",
              "      display:flex;\n",
              "      flex-wrap:wrap;\n",
              "      gap: 12px;\n",
              "    }\n",
              "\n",
              "    .colab-df-convert {\n",
              "      background-color: #E8F0FE;\n",
              "      border: none;\n",
              "      border-radius: 50%;\n",
              "      cursor: pointer;\n",
              "      display: none;\n",
              "      fill: #1967D2;\n",
              "      height: 32px;\n",
              "      padding: 0 0 0 0;\n",
              "      width: 32px;\n",
              "    }\n",
              "\n",
              "    .colab-df-convert:hover {\n",
              "      background-color: #E2EBFA;\n",
              "      box-shadow: 0px 1px 2px rgba(60, 64, 67, 0.3), 0px 1px 3px 1px rgba(60, 64, 67, 0.15);\n",
              "      fill: #174EA6;\n",
              "    }\n",
              "\n",
              "    [theme=dark] .colab-df-convert {\n",
              "      background-color: #3B4455;\n",
              "      fill: #D2E3FC;\n",
              "    }\n",
              "\n",
              "    [theme=dark] .colab-df-convert:hover {\n",
              "      background-color: #434B5C;\n",
              "      box-shadow: 0px 1px 3px 1px rgba(0, 0, 0, 0.15);\n",
              "      filter: drop-shadow(0px 1px 2px rgba(0, 0, 0, 0.3));\n",
              "      fill: #FFFFFF;\n",
              "    }\n",
              "  </style>\n",
              "\n",
              "      <script>\n",
              "        const buttonEl =\n",
              "          document.querySelector('#df-d145c9bd-652f-4d97-a91d-0cc4b60590f1 button.colab-df-convert');\n",
              "        buttonEl.style.display =\n",
              "          google.colab.kernel.accessAllowed ? 'block' : 'none';\n",
              "\n",
              "        async function convertToInteractive(key) {\n",
              "          const element = document.querySelector('#df-d145c9bd-652f-4d97-a91d-0cc4b60590f1');\n",
              "          const dataTable =\n",
              "            await google.colab.kernel.invokeFunction('convertToInteractive',\n",
              "                                                     [key], {});\n",
              "          if (!dataTable) return;\n",
              "\n",
              "          const docLinkHtml = 'Like what you see? Visit the ' +\n",
              "            '<a target=\"_blank\" href=https://colab.research.google.com/notebooks/data_table.ipynb>data table notebook</a>'\n",
              "            + ' to learn more about interactive tables.';\n",
              "          element.innerHTML = '';\n",
              "          dataTable['output_type'] = 'display_data';\n",
              "          await google.colab.output.renderOutput(dataTable, element);\n",
              "          const docLink = document.createElement('div');\n",
              "          docLink.innerHTML = docLinkHtml;\n",
              "          element.appendChild(docLink);\n",
              "        }\n",
              "      </script>\n",
              "    </div>\n",
              "  </div>\n",
              "  "
            ]
          },
          "metadata": {},
          "execution_count": 83
        }
      ]
    },
    {
      "cell_type": "markdown",
      "source": [
        "A total of 12 movies were released in 2018.\n",
        "\n",
        "Best performing was \"Capharnaüm\" with a runtime of 126mins. It starred \"Zain Al Rafeea\"\tand \"Yordanos Shiferaw\", and was directed by \"Nadine Labaki\". IMDB Rating = 8.4, recieving 62,635 votes and a Revenue of \"1661096\".\n",
        "\n"
      ],
      "metadata": {
        "id": "BHueT81s0Qmp"
      }
    },
    {
      "cell_type": "code",
      "source": [
        "# finding the year that produced the most number of movies worthy of making to the list.\n",
        "\n",
        "df['Released_Year'].value_counts()"
      ],
      "metadata": {
        "colab": {
          "base_uri": "https://localhost:8080/"
        },
        "id": "W_Fdtfdo24Nk",
        "outputId": "0d04672d-ce44-4f86-d294-bfb416fa5b9c"
      },
      "execution_count": 84,
      "outputs": [
        {
          "output_type": "execute_result",
          "data": {
            "text/plain": [
              "2014    28\n",
              "2004    27\n",
              "2001    24\n",
              "2009    23\n",
              "2013    22\n",
              "        ..\n",
              "1941     1\n",
              "1931     1\n",
              "1936     1\n",
              "1942     1\n",
              "1953     1\n",
              "Name: Released_Year, Length: 83, dtype: int64"
            ]
          },
          "metadata": {},
          "execution_count": 84
        }
      ]
    },
    {
      "cell_type": "markdown",
      "source": [
        "*The year that produced the most number of films worthy of this list was 2014.*"
      ],
      "metadata": {
        "id": "T3I08C0O3dSB"
      }
    },
    {
      "cell_type": "code",
      "source": [
        "# The revenue made from that year\n",
        "\n",
        "df[df['Released_Year']==\"2014\"].Gross.mean()"
      ],
      "metadata": {
        "colab": {
          "base_uri": "https://localhost:8080/"
        },
        "id": "ASMhV9JW3Y66",
        "outputId": "6a102ed2-3912-43de-f771-7db1765fb2fb"
      },
      "execution_count": 93,
      "outputs": [
        {
          "output_type": "execute_result",
          "data": {
            "text/plain": [
              "97998070.96428572"
            ]
          },
          "metadata": {},
          "execution_count": 93
        }
      ]
    },
    {
      "cell_type": "code",
      "source": [],
      "metadata": {
        "id": "o7PoIsVc4YWW"
      },
      "execution_count": null,
      "outputs": []
    },
    {
      "cell_type": "markdown",
      "source": [
        "***The mean revenue made that year was 97998071, which is almost half that of 2018 with almost two-fifth times more films been made.***\n"
      ],
      "metadata": {
        "id": "8l8BUnAb6KRL"
      }
    }
  ]
}